{
 "cells": [
  {
   "cell_type": "code",
   "execution_count": 7,
   "id": "cebe8dee-6388-49a7-9777-098eb8c5c475",
   "metadata": {},
   "outputs": [
    {
     "name": "stdin",
     "output_type": "stream",
     "text": [
      "Masukkan suhu dalam Fahrenheit:  68\n"
     ]
    },
    {
     "name": "stdout",
     "output_type": "stream",
     "text": [
      "Suhu dalam Celsius adalah: 20.0\n"
     ]
    }
   ],
   "source": [
    "#program mengonversi suhu dari fahrenheit ke celcius\n",
    "# Dapatkan suhu Fahrenheit dari pengguna\n",
    "fahrenheit = float(input(\"Masukkan suhu dalam Fahrenheit: \"))\n",
    "\n",
    "# Hitung suhu Celsius menggunakan rumus\n",
    "celsius = ((fahrenheit - 32) / 1.8)\n",
    "\n",
    "# Cetak suhu Celsius\n",
    "print(\"Suhu dalam Celsius adalah:\", celsius)\n"
   ]
  },
  {
   "cell_type": "code",
   "execution_count": 8,
   "id": "3fc68afd-3567-467e-843c-ed0cd95f3d8a",
   "metadata": {},
   "outputs": [
    {
     "name": "stdin",
     "output_type": "stream",
     "text": [
      "Masukkan berat badan Anda (dalam kg):  58\n",
      "Masukkan tinggi badan Anda (dalam meter):  167\n"
     ]
    },
    {
     "name": "stdout",
     "output_type": "stream",
     "text": [
      "BMI Anda adalah: 0.00207967298935064\n",
      "Anda kekurangan berat badan.\n"
     ]
    }
   ],
   "source": [
    "#program menghitung BMI (body mass index)\n",
    "\n",
    "# Dapatkan berat badan (dalam kilogram) dari pengguna\n",
    "berat = float(input(\"Masukkan berat badan Anda (dalam kg): \"))\n",
    "\n",
    "# Dapatkan tinggi badan (dalam meter) dari pengguna\n",
    "tinggi = float(input(\"Masukkan tinggi badan Anda (dalam meter): \"))\n",
    "\n",
    "# Hitung BMI menggunakan rumus\n",
    "bmi = berat / (tinggi ** 2)\n",
    "\n",
    "# Cetak hasil BMI\n",
    "print(\"BMI Anda adalah:\", bmi)\n",
    "\n",
    "# Kategori BMI (opsional)\n",
    "if bmi < 18.5:\n",
    "    print(\"Anda kekurangan berat badan.\")\n",
    "elif 18.5 <= bmi < 25:\n",
    "    print(\"Berat badan Anda normal.\")\n",
    "elif 25 <= bmi < 30:\n",
    "    print(\"Anda kelebihan berat badan.\")\n",
    "else:\n",
    "    print(\"Anda obesitas.\")\n"
   ]
  },
  {
   "cell_type": "code",
   "execution_count": 10,
   "id": "f9471af8-daeb-4cad-8aa3-4e26381cc894",
   "metadata": {},
   "outputs": [
    {
     "name": "stdin",
     "output_type": "stream",
     "text": [
      "Masukkan panjang sisi a:  3\n",
      "Masukkan panjang sisi b:  4\n"
     ]
    },
    {
     "name": "stdout",
     "output_type": "stream",
     "text": [
      "Panjang hipotenusa adalah: 5.0\n",
      "Luas segitiga adalah: 6.0\n",
      "Keliling lingkaran dengan hipotenusa sebagai jari-jari adalah: 31.41592653589793\n"
     ]
    }
   ],
   "source": [
    "#program untuk menghitung panjang hipotenusa dari segitiga siku-siku menggunakan Teorema Pythagoras.\n",
    "\n",
    "import math\n",
    "\n",
    "# Dapatkan panjang sisi a dari pengguna\n",
    "a = float(input(\"Masukkan panjang sisi a: \"))\n",
    "\n",
    "# Dapatkan panjang sisi b dari pengguna\n",
    "b = float(input(\"Masukkan panjang sisi b: \"))\n",
    "\n",
    "# Hitung panjang hipotenusa c menggunakan Teorema Pythagoras\n",
    "c = math.sqrt(a**2 + b**2)\n",
    "\n",
    "# Hitung luas segitiga\n",
    "luas = 0.5 * a * b\n",
    "\n",
    "# Hitung keliling lingkaran dengan hipotenusa sebagai jari-jari\n",
    "keliling_lingkaran = 2 * math.pi * c\n",
    "\n",
    "# Cetak panjang hipotenusa\n",
    "print(\"Panjang hipotenusa adalah:\", c)\n",
    "\n",
    "# Cetak luas segitiga\n",
    "print(\"Luas segitiga adalah:\", luas)\n",
    "\n",
    "# Cetak keliling lingkaran\n",
    "print(\"Keliling lingkaran dengan hipotenusa sebagai jari-jari adalah:\", keliling_lingkaran)\n",
    "\n"
   ]
  },
  {
   "cell_type": "code",
   "execution_count": 12,
   "id": "135e6b47-6fed-4826-8938-ddc098b40843",
   "metadata": {},
   "outputs": [
    {
     "name": "stdin",
     "output_type": "stream",
     "text": [
      "Masukkan jumlah peso Kolombia:  100\n",
      "Masukkan jumlah sol Peru:  100\n",
      "Masukkan jumlah real Brasil:  50\n"
     ]
    },
    {
     "name": "stdout",
     "output_type": "stream",
     "text": [
      "Total dalam USD adalah: 36.51381039052272\n"
     ]
    }
   ],
   "source": [
    "#program Python untuk menghitung total uang dalam USD dari peso Kolombia, sol Peru, dan real Brasil.\n",
    "\n",
    "# Nilai tukar (contoh, per 1 USD) - Sesuaikan dengan nilai tukar saat ini\n",
    "nilai_tukar_peso = 3900  # Contoh: 1 USD = 3900 peso Kolombia\n",
    "nilai_tukar_sol = 3.65  # Contoh: 1 USD = 3.65 sol Peru\n",
    "nilai_tukar_real = 5.50  # Contoh: 1 USD = 5.50 real Brasil\n",
    "\n",
    "# Dapatkan jumlah masing-masing mata uang dari pengguna\n",
    "peso = float(input(\"Masukkan jumlah peso Kolombia: \"))\n",
    "sol = float(input(\"Masukkan jumlah sol Peru: \"))\n",
    "real = float(input(\"Masukkan jumlah real Brasil: \"))\n",
    "\n",
    "# Hitung nilai dalam USD\n",
    "usd_dari_peso = peso / nilai_tukar_peso\n",
    "usd_dari_sol = sol / nilai_tukar_sol\n",
    "usd_dari_real = real / nilai_tukar_real\n",
    "\n",
    "# Hitung total dalam USD\n",
    "total_usd = usd_dari_peso + usd_dari_sol + usd_dari_real\n",
    "\n",
    "# Cetak total dalam USD\n",
    "print(\"Total dalam USD adalah:\", total_usd)\n"
   ]
  },
  {
   "cell_type": "code",
   "execution_count": 13,
   "id": "29dc7861-302a-4a47-98da-3f0db2498dd3",
   "metadata": {},
   "outputs": [
    {
     "name": "stdin",
     "output_type": "stream",
     "text": [
      "Question:  apakah kamu menyukai ku?\n"
     ]
    },
    {
     "name": "stdout",
     "output_type": "stream",
     "text": [
      "Magic 8 Ball: Outlook not so good.\n"
     ]
    }
   ],
   "source": [
    "#program  magic8.py\n",
    "\n",
    "import random\n",
    "\n",
    "def magic_8_ball():\n",
    "    answers = [\n",
    "        \"Yes - definitely.\",\n",
    "        \"It is decidedly so.\",\n",
    "        \"Without a doubt.\",\n",
    "        \"Reply hazy, try again.\",\n",
    "        \"Ask again later.\",\n",
    "        \"Better not tell you now.\",\n",
    "        \"My sources say no.\",\n",
    "        \"Outlook not so good.\",\n",
    "        \"Very doubtful.\"\n",
    "    ]\n",
    "\n",
    "    question = input(\"Question: \")\n",
    "    print(\"Magic 8 Ball:\", random.choice(answers))\n",
    "\n",
    "if __name__ == \"__main__\":\n",
    "    magic_8_ball()\n"
   ]
  },
  {
   "cell_type": "code",
   "execution_count": 14,
   "id": "b6d995a4-324c-4037-bf5f-be1141af63b3",
   "metadata": {},
   "outputs": [
    {
     "name": "stdin",
     "output_type": "stream",
     "text": [
      "Masukkan tinggi badan Anda dalam cm:  169\n",
      "Masukkan jumlah credits yang Anda miliki:  59\n"
     ]
    },
    {
     "name": "stdout",
     "output_type": "stream",
     "text": [
      "Enjoy the ride!\n"
     ]
    }
   ],
   "source": [
    "#syarat naik wahana\n",
    "\n",
    "# Nama file: the_cyclone.py\n",
    "# Meminta input tinggi badan dan jumlah credits dari pengguna\n",
    "height = int(input(\"Masukkan tinggi badan Anda dalam cm: \"))\n",
    "credits = int(input(\"Masukkan jumlah credits yang Anda miliki: \"))\n",
    "\n",
    "# Menentukan apakah pengguna memenuhi syarat untuk naik wahana\n",
    "tinggi_minimum = 137\n",
    "credits_minimum = 10\n",
    "\n",
    "if height >= tinggi_minimum and credits >= credits_minimum:\n",
    "    print(\"Enjoy the ride!\")\n",
    "elif credits >= credits_minimum and height < tinggi_minimum:\n",
    "    print(\"You are not tall enough to ride.\")\n",
    "elif height >= tinggi_minimum and credits < credits_minimum:\n",
    "    print(\"You don't have enough credits.\")\n",
    "else:\n",
    "    print(\"You have not met either requirement.\")\n"
   ]
  },
  {
   "cell_type": "code",
   "execution_count": 17,
   "id": "43285af1-ae15-493e-bd33-3a7fcdf2bafa",
   "metadata": {},
   "outputs": [
    {
     "name": "stdout",
     "output_type": "stream",
     "text": [
      "Q1) Do you like Dawn or Dusk?\n",
      "   1) Dawn\n",
      "   2) Dusk\n"
     ]
    },
    {
     "name": "stdin",
     "output_type": "stream",
     "text": [
      "Pilih jawaban (1 atau 2):  1\n"
     ]
    },
    {
     "name": "stdout",
     "output_type": "stream",
     "text": [
      "\n",
      "Q2) When I'm dead, I want people to remember me as:\n",
      "   1) The Good\n",
      "   2) The Great\n",
      "   3) The Wise\n",
      "   4) The Bold\n"
     ]
    },
    {
     "name": "stdin",
     "output_type": "stream",
     "text": [
      "Pilih jawaban (1, 2, 3, atau 4):  1\n"
     ]
    },
    {
     "name": "stdout",
     "output_type": "stream",
     "text": [
      "\n",
      "Q3) Which kind of instrument most pleases you?\n",
      "   1) The violin\n",
      "   2) The trumpet\n",
      "   3) The piano\n",
      "   4) The drum\n"
     ]
    },
    {
     "name": "stdin",
     "output_type": "stream",
     "text": [
      "Pilih jawaban (1, 2, 3, atau 4):  1\n"
     ]
    },
    {
     "name": "stdout",
     "output_type": "stream",
     "text": [
      "\n",
      "Skor:\n",
      "Gryffindor: 1\n",
      "Ravenclaw: 1\n",
      "Hufflepuff: 2\n",
      "Slytherin: 4\n",
      "\n",
      "Rumah yang paling sesuai untuk Anda adalah: Slytherin\n"
     ]
    }
   ],
   "source": [
    "#program menanyakan beberapa pertanyaan kepada pengguna dan menentukan rumah Hogwarts mana yang paling sesuai berdasarkan jawaban mereka.\n",
    "\n",
    "# Inisialisasi skor untuk setiap rumah\n",
    "gryffindor = 0\n",
    "ravenclaw = 0\n",
    "hufflepuff = 0\n",
    "slytherin = 0\n",
    "\n",
    "# Pertanyaan 1\n",
    "print(\"Q1) Do you like Dawn or Dusk?\")\n",
    "print(\"   1) Dawn\")\n",
    "print(\"   2) Dusk\")\n",
    "jawaban1 = int(input(\"Pilih jawaban (1 atau 2): \"))\n",
    "\n",
    "if jawaban1 == 1:\n",
    "    gryffindor += 1\n",
    "    ravenclaw += 1\n",
    "elif jawaban1 == 2:\n",
    "    hufflepuff += 1\n",
    "    slytherin += 1\n",
    "else:\n",
    "    print(\"Wrong input.\")\n",
    "\n",
    "# Pertanyaan 2\n",
    "print(\"\\nQ2) When I'm dead, I want people to remember me as:\")\n",
    "print(\"   1) The Good\")\n",
    "print(\"   2) The Great\")\n",
    "print(\"   3) The Wise\")\n",
    "print(\"   4) The Bold\")\n",
    "jawaban2 = int(input(\"Pilih jawaban (1, 2, 3, atau 4): \"))\n",
    "\n",
    "if jawaban2 == 1:\n",
    "    hufflepuff += 2\n",
    "elif jawaban2 == 2:\n",
    "    slytherin += 2\n",
    "elif jawaban2 == 3:\n",
    "    ravenclaw += 2\n",
    "elif jawaban2 == 4:\n",
    "    gryffindor += 2\n",
    "else:\n",
    "    print(\"Wrong input.\")\n",
    "\n",
    "# Pertanyaan 3\n",
    "print(\"\\nQ3) Which kind of instrument most pleases you?\")\n",
    "print(\"   1) The violin\")\n",
    "print(\"   2) The trumpet\")\n",
    "print(\"   3) The piano\")\n",
    "print(\"   4) The drum\")\n",
    "jawaban3 = int(input(\"Pilih jawaban (1, 2, 3, atau 4): \"))\n",
    "\n",
    "if jawaban3 == 1:\n",
    "    slytherin += 4\n",
    "elif jawaban3 == 2:\n",
    "    hufflepuff += 4\n",
    "elif jawaban3 == 3:\n",
    "    ravenclaw += 4\n",
    "elif jawaban3 == 4:\n",
    "    gryffindor += 4\n",
    "else:\n",
    "    print(\"Wrong input.\")\n",
    "\n",
    "# Menampilkan skor untuk setiap rumah\n",
    "print(\"\\nSkor:\")\n",
    "print(\"Gryffindor:\", gryffindor)\n",
    "print(\"Ravenclaw:\", ravenclaw)\n",
    "print(\"Hufflepuff:\", hufflepuff)\n",
    "print(\"Slytherin:\", slytherin)\n",
    "\n",
    "# Menentukan rumah dengan skor tertinggi\n",
    "skor = {\n",
    "    \"Gryffindor\": gryffindor,\n",
    "    \"Ravenclaw\": ravenclaw,\n",
    "    \"Hufflepuff\": hufflepuff,\n",
    "    \"Slytherin\": slytherin\n",
    "}\n",
    "rumah_tertinggi = max(skor, key=skor.get)\n",
    "\n",
    "print(\"\\nRumah yang paling sesuai untuk Anda adalah:\", rumah_tertinggi)\n"
   ]
  },
  {
   "cell_type": "code",
   "execution_count": 18,
   "id": "5fe0f42b-12f2-4112-a7f4-70ad53be813e",
   "metadata": {},
   "outputs": [
    {
     "name": "stdin",
     "output_type": "stream",
     "text": [
      "Masukkan rating (misalnya: 4.2):  1\n"
     ]
    },
    {
     "name": "stdout",
     "output_type": "stream",
     "text": [
      "Poor\n"
     ]
    }
   ],
   "source": [
    "#penilaian berdasarkan rating\n",
    "\n",
    "# Membuat variabel rating dengan nilai desimal\n",
    "rating = float(input(\"Masukkan rating (misalnya: 4.2): \"))\n",
    "\n",
    "# Sistem penilaian menggunakan if/elif/else\n",
    "if rating > 4.5:\n",
    "    print(\"Extraordinary\")\n",
    "elif rating > 4:\n",
    "    print(\"Excellent\")\n",
    "elif rating > 3:\n",
    "    print(\"Good\")\n",
    "elif rating > 2:\n",
    "    print(\"Fair\")\n",
    "else:\n",
    "    print(\"Poor\")\n"
   ]
  },
  {
   "cell_type": "code",
   "execution_count": 19,
   "id": "f71d0e1e-1383-44c8-80d5-247fc5263e1a",
   "metadata": {},
   "outputs": [
    {
     "name": "stdout",
     "output_type": "stream",
     "text": [
      "It is impossible to sneeze while sleeping.\n"
     ]
    }
   ],
   "source": [
    "# Program Fakta Snapple Acak\n",
    "import random\n",
    "\n",
    "# Membuat angka acak dari 0 sampai 5\n",
    "num = random.randint(0, 5)\n",
    "\n",
    "# Mengecek angka acak dan mencetak fakta Snapple\n",
    "if num == 0:\n",
    "    print('Flamingos turn pink from eating shrimp.')\n",
    "elif num == 1:\n",
    "    print(\"The only food that doesn't spoil is honey.\")\n",
    "elif num == 2:\n",
    "    print('Shrimp can only swim backwards.')\n",
    "elif num == 3:\n",
    "    print(\"A taste bud's life span is about 10 days.\")\n",
    "elif num == 4:\n",
    "    print('It is impossible to sneeze while sleeping.')\n",
    "else:\n",
    "    print('It is illegal to sing off-key in North Carolina.')"
   ]
  },
  {
   "cell_type": "code",
   "execution_count": 20,
   "id": "529d9aa1-b8d0-4c64-b43c-4653620613f0",
   "metadata": {},
   "outputs": [
    {
     "name": "stdin",
     "output_type": "stream",
     "text": [
      "Masukkan nomor bulan (1-12):  7\n"
     ]
    },
    {
     "name": "stdout",
     "output_type": "stream",
     "text": [
      "Summer 🌻\n"
     ]
    }
   ],
   "source": [
    "# Program Menentukan Musim Berdasarkan Nomor Bulan\n",
    "\n",
    "# Meminta input bulan dari pengguna\n",
    "month = int(input(\"Masukkan nomor bulan (1-12): \"))\n",
    "\n",
    "# Mengecek musim\n",
    "if month == 1 or month == 2 or month == 3:\n",
    "    print(\"Winter 🌨️\")\n",
    "elif month == 4 or month == 5 or month == 6:\n",
    "    print(\"Spring 🌱\")\n",
    "elif month == 7 or month == 8 or month == 9:\n",
    "    print(\"Summer 🌻\")\n",
    "elif month == 10 or month == 11 or month == 12:\n",
    "    print(\"Autumn 🍂\")\n",
    "else:\n",
    "    print(\"Invalid\")"
   ]
  },
  {
   "cell_type": "code",
   "execution_count": null,
   "id": "4fe4e5af-4691-4a3c-8927-abae8c883eb1",
   "metadata": {},
   "outputs": [
    {
     "name": "stdin",
     "output_type": "stream",
     "text": [
      "Enter your weight on Earth:  59\n"
     ]
    }
   ],
   "source": [
    "# Program Konversi Berat Antar Planet\n",
    "\n",
    "# Meminta input berat di Bumi (float) dan nomor planet (int)\n",
    "earth_weight = float(input(\"Enter your weight on Earth: \"))\n",
    "planet = int(input(\"Enter the planet number (1-7): \"))\n",
    "\n",
    "# Menghitung berat di planet tujuan\n",
    "if planet == 1:  # Mercury\n",
    "    destination_weight = earth_weight * 0.38\n",
    "    print(destination_weight)\n",
    "elif planet == 2:  # Venus\n",
    "    destination_weight = earth_weight * 0.91\n",
    "    print(destination_weight)\n",
    "elif planet == 3:  # Mars\n",
    "    destination_weight = earth_weight * 0.38\n",
    "    print(destination_weight)\n",
    "elif planet == 4:  # Jupiter\n",
    "    destination_weight = earth_weight * 2.53\n",
    "    print(destination_weight)\n",
    "elif planet == 5:  # Saturn\n",
    "    destination_weight = earth_weight * 1.07\n",
    "    print(destination_weight)\n",
    "elif planet == 6:  # Uranus\n",
    "    destination_weight = earth_weight * 0.89\n",
    "    print(destination_weight)\n",
    "elif planet == 7:  # Neptune\n",
    "    destination_weight = earth_weight * 1.14\n",
    "    print(destination_weight)\n",
    "else:\n",
    "    print(\"Invalid planet number\")"
   ]
  },
  {
   "cell_type": "code",
   "execution_count": 1,
   "id": "fd832681-40c3-4d89-a473-2533bb88d038",
   "metadata": {},
   "outputs": [
    {
     "name": "stdin",
     "output_type": "stream",
     "text": [
      "Tebak angka:  3\n",
      "Tebak angka:  5\n",
      "Tebak angka:  6\n"
     ]
    },
    {
     "name": "stdout",
     "output_type": "stream",
     "text": [
      "Anda benar!\n"
     ]
    }
   ],
   "source": [
    "#tebak angka dgn batas percobaan\n",
    "#while loop\n",
    "\n",
    "guess = 0\n",
    "tries = 0\n",
    "max_tries = 3  #dapat menyesuaikan jumlah maksimum percobaan\n",
    "\n",
    "while guess != 6 and tries < max_tries:\n",
    "    guess = int(input(\"Tebak angka: \"))\n",
    "    tries += 1\n",
    "\n",
    "if guess == 6:\n",
    "    print(\"Anda benar!\")\n",
    "else:\n",
    "    print(\"Anda kehabisan percobaan.\")\n"
   ]
  },
  {
   "cell_type": "code",
   "execution_count": 3,
   "id": "ef8fb0de-27eb-4693-a5cc-f5265f8efd97",
   "metadata": {},
   "outputs": [
    {
     "name": "stdout",
     "output_type": "stream",
     "text": [
      "sabiq ganteng\n",
      "sabiq ganteng\n",
      "sabiq ganteng\n",
      "sabiq ganteng\n",
      "sabiq ganteng\n",
      "sabiq ganteng\n",
      "sabiq ganteng\n",
      "sabiq ganteng\n",
      "sabiq ganteng\n",
      "sabiq ganteng\n",
      "sabiq ganteng\n",
      "sabiq ganteng\n",
      "sabiq ganteng\n",
      "sabiq ganteng\n",
      "sabiq ganteng\n",
      "sabiq ganteng\n",
      "sabiq ganteng\n",
      "sabiq ganteng\n",
      "sabiq ganteng\n",
      "sabiq ganteng\n",
      "sabiq ganteng\n",
      "sabiq ganteng\n",
      "sabiq ganteng\n",
      "sabiq ganteng\n",
      "sabiq ganteng\n",
      "sabiq ganteng\n",
      "sabiq ganteng\n",
      "sabiq ganteng\n",
      "sabiq ganteng\n",
      "sabiq ganteng\n",
      "sabiq ganteng\n",
      "sabiq ganteng\n",
      "sabiq ganteng\n",
      "sabiq ganteng\n",
      "sabiq ganteng\n",
      "sabiq ganteng\n",
      "sabiq ganteng\n",
      "sabiq ganteng\n",
      "sabiq ganteng\n",
      "sabiq ganteng\n",
      "sabiq ganteng\n",
      "sabiq ganteng\n",
      "sabiq ganteng\n",
      "sabiq ganteng\n",
      "sabiq ganteng\n",
      "sabiq ganteng\n",
      "sabiq ganteng\n",
      "sabiq ganteng\n",
      "sabiq ganteng\n",
      "sabiq ganteng\n",
      "sabiq ganteng\n",
      "sabiq ganteng\n",
      "sabiq ganteng\n",
      "sabiq ganteng\n",
      "sabiq ganteng\n",
      "sabiq ganteng\n",
      "sabiq ganteng\n",
      "sabiq ganteng\n",
      "sabiq ganteng\n",
      "sabiq ganteng\n",
      "sabiq ganteng\n",
      "sabiq ganteng\n",
      "sabiq ganteng\n",
      "sabiq ganteng\n",
      "sabiq ganteng\n",
      "sabiq ganteng\n",
      "sabiq ganteng\n",
      "sabiq ganteng\n",
      "sabiq ganteng\n",
      "sabiq ganteng\n",
      "sabiq ganteng\n",
      "sabiq ganteng\n",
      "sabiq ganteng\n",
      "sabiq ganteng\n",
      "sabiq ganteng\n",
      "sabiq ganteng\n",
      "sabiq ganteng\n",
      "sabiq ganteng\n",
      "sabiq ganteng\n",
      "sabiq ganteng\n",
      "sabiq ganteng\n",
      "sabiq ganteng\n",
      "sabiq ganteng\n",
      "sabiq ganteng\n",
      "sabiq ganteng\n",
      "sabiq ganteng\n",
      "sabiq ganteng\n",
      "sabiq ganteng\n",
      "sabiq ganteng\n",
      "sabiq ganteng\n",
      "sabiq ganteng\n",
      "sabiq ganteng\n",
      "sabiq ganteng\n",
      "sabiq ganteng\n",
      "sabiq ganteng\n",
      "sabiq ganteng\n",
      "sabiq ganteng\n",
      "sabiq ganteng\n",
      "sabiq ganteng\n",
      "sabiq ganteng\n"
     ]
    }
   ],
   "source": [
    "#for loop & range ()\n",
    "\n",
    "#mencetak seratus kalimat\n",
    "\n",
    "for i in range(100): #jumlah bisa ditentukan\n",
    "    print(\"sabiq ganteng\")\n"
   ]
  },
  {
   "cell_type": "code",
   "execution_count": 1,
   "id": "7884ca1f-acd7-4d03-96e8-c793ff2b0ff1",
   "metadata": {},
   "outputs": [
    {
     "name": "stdout",
     "output_type": "stream",
     "text": [
      "99 botol bir di dinding\n",
      "99 botol bir\n",
      "Ambil satu ke bawah, lewati di sekitar\n",
      "98 botol bir di dinding\n",
      "\n",
      "98 botol bir di dinding\n",
      "98 botol bir\n",
      "Ambil satu ke bawah, lewati di sekitar\n",
      "97 botol bir di dinding\n",
      "\n",
      "97 botol bir di dinding\n",
      "97 botol bir\n",
      "Ambil satu ke bawah, lewati di sekitar\n",
      "96 botol bir di dinding\n",
      "\n",
      "96 botol bir di dinding\n",
      "96 botol bir\n",
      "Ambil satu ke bawah, lewati di sekitar\n",
      "95 botol bir di dinding\n",
      "\n",
      "95 botol bir di dinding\n",
      "95 botol bir\n",
      "Ambil satu ke bawah, lewati di sekitar\n",
      "94 botol bir di dinding\n",
      "\n",
      "94 botol bir di dinding\n",
      "94 botol bir\n",
      "Ambil satu ke bawah, lewati di sekitar\n",
      "93 botol bir di dinding\n",
      "\n",
      "93 botol bir di dinding\n",
      "93 botol bir\n",
      "Ambil satu ke bawah, lewati di sekitar\n",
      "92 botol bir di dinding\n",
      "\n",
      "92 botol bir di dinding\n",
      "92 botol bir\n",
      "Ambil satu ke bawah, lewati di sekitar\n",
      "91 botol bir di dinding\n",
      "\n",
      "91 botol bir di dinding\n",
      "91 botol bir\n",
      "Ambil satu ke bawah, lewati di sekitar\n",
      "90 botol bir di dinding\n",
      "\n",
      "90 botol bir di dinding\n",
      "90 botol bir\n",
      "Ambil satu ke bawah, lewati di sekitar\n",
      "89 botol bir di dinding\n",
      "\n",
      "89 botol bir di dinding\n",
      "89 botol bir\n",
      "Ambil satu ke bawah, lewati di sekitar\n",
      "88 botol bir di dinding\n",
      "\n",
      "88 botol bir di dinding\n",
      "88 botol bir\n",
      "Ambil satu ke bawah, lewati di sekitar\n",
      "87 botol bir di dinding\n",
      "\n",
      "87 botol bir di dinding\n",
      "87 botol bir\n",
      "Ambil satu ke bawah, lewati di sekitar\n",
      "86 botol bir di dinding\n",
      "\n",
      "86 botol bir di dinding\n",
      "86 botol bir\n",
      "Ambil satu ke bawah, lewati di sekitar\n",
      "85 botol bir di dinding\n",
      "\n",
      "85 botol bir di dinding\n",
      "85 botol bir\n",
      "Ambil satu ke bawah, lewati di sekitar\n",
      "84 botol bir di dinding\n",
      "\n",
      "84 botol bir di dinding\n",
      "84 botol bir\n",
      "Ambil satu ke bawah, lewati di sekitar\n",
      "83 botol bir di dinding\n",
      "\n",
      "83 botol bir di dinding\n",
      "83 botol bir\n",
      "Ambil satu ke bawah, lewati di sekitar\n",
      "82 botol bir di dinding\n",
      "\n",
      "82 botol bir di dinding\n",
      "82 botol bir\n",
      "Ambil satu ke bawah, lewati di sekitar\n",
      "81 botol bir di dinding\n",
      "\n",
      "81 botol bir di dinding\n",
      "81 botol bir\n",
      "Ambil satu ke bawah, lewati di sekitar\n",
      "80 botol bir di dinding\n",
      "\n",
      "80 botol bir di dinding\n",
      "80 botol bir\n",
      "Ambil satu ke bawah, lewati di sekitar\n",
      "79 botol bir di dinding\n",
      "\n",
      "79 botol bir di dinding\n",
      "79 botol bir\n",
      "Ambil satu ke bawah, lewati di sekitar\n",
      "78 botol bir di dinding\n",
      "\n",
      "78 botol bir di dinding\n",
      "78 botol bir\n",
      "Ambil satu ke bawah, lewati di sekitar\n",
      "77 botol bir di dinding\n",
      "\n",
      "77 botol bir di dinding\n",
      "77 botol bir\n",
      "Ambil satu ke bawah, lewati di sekitar\n",
      "76 botol bir di dinding\n",
      "\n",
      "76 botol bir di dinding\n",
      "76 botol bir\n",
      "Ambil satu ke bawah, lewati di sekitar\n",
      "75 botol bir di dinding\n",
      "\n",
      "75 botol bir di dinding\n",
      "75 botol bir\n",
      "Ambil satu ke bawah, lewati di sekitar\n",
      "74 botol bir di dinding\n",
      "\n",
      "74 botol bir di dinding\n",
      "74 botol bir\n",
      "Ambil satu ke bawah, lewati di sekitar\n",
      "73 botol bir di dinding\n",
      "\n",
      "73 botol bir di dinding\n",
      "73 botol bir\n",
      "Ambil satu ke bawah, lewati di sekitar\n",
      "72 botol bir di dinding\n",
      "\n",
      "72 botol bir di dinding\n",
      "72 botol bir\n",
      "Ambil satu ke bawah, lewati di sekitar\n",
      "71 botol bir di dinding\n",
      "\n",
      "71 botol bir di dinding\n",
      "71 botol bir\n",
      "Ambil satu ke bawah, lewati di sekitar\n",
      "70 botol bir di dinding\n",
      "\n",
      "70 botol bir di dinding\n",
      "70 botol bir\n",
      "Ambil satu ke bawah, lewati di sekitar\n",
      "69 botol bir di dinding\n",
      "\n",
      "69 botol bir di dinding\n",
      "69 botol bir\n",
      "Ambil satu ke bawah, lewati di sekitar\n",
      "68 botol bir di dinding\n",
      "\n",
      "68 botol bir di dinding\n",
      "68 botol bir\n",
      "Ambil satu ke bawah, lewati di sekitar\n",
      "67 botol bir di dinding\n",
      "\n",
      "67 botol bir di dinding\n",
      "67 botol bir\n",
      "Ambil satu ke bawah, lewati di sekitar\n",
      "66 botol bir di dinding\n",
      "\n",
      "66 botol bir di dinding\n",
      "66 botol bir\n",
      "Ambil satu ke bawah, lewati di sekitar\n",
      "65 botol bir di dinding\n",
      "\n",
      "65 botol bir di dinding\n",
      "65 botol bir\n",
      "Ambil satu ke bawah, lewati di sekitar\n",
      "64 botol bir di dinding\n",
      "\n",
      "64 botol bir di dinding\n",
      "64 botol bir\n",
      "Ambil satu ke bawah, lewati di sekitar\n",
      "63 botol bir di dinding\n",
      "\n",
      "63 botol bir di dinding\n",
      "63 botol bir\n",
      "Ambil satu ke bawah, lewati di sekitar\n",
      "62 botol bir di dinding\n",
      "\n",
      "62 botol bir di dinding\n",
      "62 botol bir\n",
      "Ambil satu ke bawah, lewati di sekitar\n",
      "61 botol bir di dinding\n",
      "\n",
      "61 botol bir di dinding\n",
      "61 botol bir\n",
      "Ambil satu ke bawah, lewati di sekitar\n",
      "60 botol bir di dinding\n",
      "\n",
      "60 botol bir di dinding\n",
      "60 botol bir\n",
      "Ambil satu ke bawah, lewati di sekitar\n",
      "59 botol bir di dinding\n",
      "\n",
      "59 botol bir di dinding\n",
      "59 botol bir\n",
      "Ambil satu ke bawah, lewati di sekitar\n",
      "58 botol bir di dinding\n",
      "\n",
      "58 botol bir di dinding\n",
      "58 botol bir\n",
      "Ambil satu ke bawah, lewati di sekitar\n",
      "57 botol bir di dinding\n",
      "\n",
      "57 botol bir di dinding\n",
      "57 botol bir\n",
      "Ambil satu ke bawah, lewati di sekitar\n",
      "56 botol bir di dinding\n",
      "\n",
      "56 botol bir di dinding\n",
      "56 botol bir\n",
      "Ambil satu ke bawah, lewati di sekitar\n",
      "55 botol bir di dinding\n",
      "\n",
      "55 botol bir di dinding\n",
      "55 botol bir\n",
      "Ambil satu ke bawah, lewati di sekitar\n",
      "54 botol bir di dinding\n",
      "\n",
      "54 botol bir di dinding\n",
      "54 botol bir\n",
      "Ambil satu ke bawah, lewati di sekitar\n",
      "53 botol bir di dinding\n",
      "\n",
      "53 botol bir di dinding\n",
      "53 botol bir\n",
      "Ambil satu ke bawah, lewati di sekitar\n",
      "52 botol bir di dinding\n",
      "\n",
      "52 botol bir di dinding\n",
      "52 botol bir\n",
      "Ambil satu ke bawah, lewati di sekitar\n",
      "51 botol bir di dinding\n",
      "\n",
      "51 botol bir di dinding\n",
      "51 botol bir\n",
      "Ambil satu ke bawah, lewati di sekitar\n",
      "50 botol bir di dinding\n",
      "\n",
      "50 botol bir di dinding\n",
      "50 botol bir\n",
      "Ambil satu ke bawah, lewati di sekitar\n",
      "49 botol bir di dinding\n",
      "\n",
      "49 botol bir di dinding\n",
      "49 botol bir\n",
      "Ambil satu ke bawah, lewati di sekitar\n",
      "48 botol bir di dinding\n",
      "\n",
      "48 botol bir di dinding\n",
      "48 botol bir\n",
      "Ambil satu ke bawah, lewati di sekitar\n",
      "47 botol bir di dinding\n",
      "\n",
      "47 botol bir di dinding\n",
      "47 botol bir\n",
      "Ambil satu ke bawah, lewati di sekitar\n",
      "46 botol bir di dinding\n",
      "\n",
      "46 botol bir di dinding\n",
      "46 botol bir\n",
      "Ambil satu ke bawah, lewati di sekitar\n",
      "45 botol bir di dinding\n",
      "\n",
      "45 botol bir di dinding\n",
      "45 botol bir\n",
      "Ambil satu ke bawah, lewati di sekitar\n",
      "44 botol bir di dinding\n",
      "\n",
      "44 botol bir di dinding\n",
      "44 botol bir\n",
      "Ambil satu ke bawah, lewati di sekitar\n",
      "43 botol bir di dinding\n",
      "\n",
      "43 botol bir di dinding\n",
      "43 botol bir\n",
      "Ambil satu ke bawah, lewati di sekitar\n",
      "42 botol bir di dinding\n",
      "\n",
      "42 botol bir di dinding\n",
      "42 botol bir\n",
      "Ambil satu ke bawah, lewati di sekitar\n",
      "41 botol bir di dinding\n",
      "\n",
      "41 botol bir di dinding\n",
      "41 botol bir\n",
      "Ambil satu ke bawah, lewati di sekitar\n",
      "40 botol bir di dinding\n",
      "\n",
      "40 botol bir di dinding\n",
      "40 botol bir\n",
      "Ambil satu ke bawah, lewati di sekitar\n",
      "39 botol bir di dinding\n",
      "\n",
      "39 botol bir di dinding\n",
      "39 botol bir\n",
      "Ambil satu ke bawah, lewati di sekitar\n",
      "38 botol bir di dinding\n",
      "\n",
      "38 botol bir di dinding\n",
      "38 botol bir\n",
      "Ambil satu ke bawah, lewati di sekitar\n",
      "37 botol bir di dinding\n",
      "\n",
      "37 botol bir di dinding\n",
      "37 botol bir\n",
      "Ambil satu ke bawah, lewati di sekitar\n",
      "36 botol bir di dinding\n",
      "\n",
      "36 botol bir di dinding\n",
      "36 botol bir\n",
      "Ambil satu ke bawah, lewati di sekitar\n",
      "35 botol bir di dinding\n",
      "\n",
      "35 botol bir di dinding\n",
      "35 botol bir\n",
      "Ambil satu ke bawah, lewati di sekitar\n",
      "34 botol bir di dinding\n",
      "\n",
      "34 botol bir di dinding\n",
      "34 botol bir\n",
      "Ambil satu ke bawah, lewati di sekitar\n",
      "33 botol bir di dinding\n",
      "\n",
      "33 botol bir di dinding\n",
      "33 botol bir\n",
      "Ambil satu ke bawah, lewati di sekitar\n",
      "32 botol bir di dinding\n",
      "\n",
      "32 botol bir di dinding\n",
      "32 botol bir\n",
      "Ambil satu ke bawah, lewati di sekitar\n",
      "31 botol bir di dinding\n",
      "\n",
      "31 botol bir di dinding\n",
      "31 botol bir\n",
      "Ambil satu ke bawah, lewati di sekitar\n",
      "30 botol bir di dinding\n",
      "\n",
      "30 botol bir di dinding\n",
      "30 botol bir\n",
      "Ambil satu ke bawah, lewati di sekitar\n",
      "29 botol bir di dinding\n",
      "\n",
      "29 botol bir di dinding\n",
      "29 botol bir\n",
      "Ambil satu ke bawah, lewati di sekitar\n",
      "28 botol bir di dinding\n",
      "\n",
      "28 botol bir di dinding\n",
      "28 botol bir\n",
      "Ambil satu ke bawah, lewati di sekitar\n",
      "27 botol bir di dinding\n",
      "\n",
      "27 botol bir di dinding\n",
      "27 botol bir\n",
      "Ambil satu ke bawah, lewati di sekitar\n",
      "26 botol bir di dinding\n",
      "\n",
      "26 botol bir di dinding\n",
      "26 botol bir\n",
      "Ambil satu ke bawah, lewati di sekitar\n",
      "25 botol bir di dinding\n",
      "\n",
      "25 botol bir di dinding\n",
      "25 botol bir\n",
      "Ambil satu ke bawah, lewati di sekitar\n",
      "24 botol bir di dinding\n",
      "\n",
      "24 botol bir di dinding\n",
      "24 botol bir\n",
      "Ambil satu ke bawah, lewati di sekitar\n",
      "23 botol bir di dinding\n",
      "\n",
      "23 botol bir di dinding\n",
      "23 botol bir\n",
      "Ambil satu ke bawah, lewati di sekitar\n",
      "22 botol bir di dinding\n",
      "\n",
      "22 botol bir di dinding\n",
      "22 botol bir\n",
      "Ambil satu ke bawah, lewati di sekitar\n",
      "21 botol bir di dinding\n",
      "\n",
      "21 botol bir di dinding\n",
      "21 botol bir\n",
      "Ambil satu ke bawah, lewati di sekitar\n",
      "20 botol bir di dinding\n",
      "\n",
      "20 botol bir di dinding\n",
      "20 botol bir\n",
      "Ambil satu ke bawah, lewati di sekitar\n",
      "19 botol bir di dinding\n",
      "\n",
      "19 botol bir di dinding\n",
      "19 botol bir\n",
      "Ambil satu ke bawah, lewati di sekitar\n",
      "18 botol bir di dinding\n",
      "\n",
      "18 botol bir di dinding\n",
      "18 botol bir\n",
      "Ambil satu ke bawah, lewati di sekitar\n",
      "17 botol bir di dinding\n",
      "\n",
      "17 botol bir di dinding\n",
      "17 botol bir\n",
      "Ambil satu ke bawah, lewati di sekitar\n",
      "16 botol bir di dinding\n",
      "\n",
      "16 botol bir di dinding\n",
      "16 botol bir\n",
      "Ambil satu ke bawah, lewati di sekitar\n",
      "15 botol bir di dinding\n",
      "\n",
      "15 botol bir di dinding\n",
      "15 botol bir\n",
      "Ambil satu ke bawah, lewati di sekitar\n",
      "14 botol bir di dinding\n",
      "\n",
      "14 botol bir di dinding\n",
      "14 botol bir\n",
      "Ambil satu ke bawah, lewati di sekitar\n",
      "13 botol bir di dinding\n",
      "\n",
      "13 botol bir di dinding\n",
      "13 botol bir\n",
      "Ambil satu ke bawah, lewati di sekitar\n",
      "12 botol bir di dinding\n",
      "\n",
      "12 botol bir di dinding\n",
      "12 botol bir\n",
      "Ambil satu ke bawah, lewati di sekitar\n",
      "11 botol bir di dinding\n",
      "\n",
      "11 botol bir di dinding\n",
      "11 botol bir\n",
      "Ambil satu ke bawah, lewati di sekitar\n",
      "10 botol bir di dinding\n",
      "\n",
      "10 botol bir di dinding\n",
      "10 botol bir\n",
      "Ambil satu ke bawah, lewati di sekitar\n",
      "9 botol bir di dinding\n",
      "\n",
      "9 botol bir di dinding\n",
      "9 botol bir\n",
      "Ambil satu ke bawah, lewati di sekitar\n",
      "8 botol bir di dinding\n",
      "\n",
      "8 botol bir di dinding\n",
      "8 botol bir\n",
      "Ambil satu ke bawah, lewati di sekitar\n",
      "7 botol bir di dinding\n",
      "\n",
      "7 botol bir di dinding\n",
      "7 botol bir\n",
      "Ambil satu ke bawah, lewati di sekitar\n",
      "6 botol bir di dinding\n",
      "\n",
      "6 botol bir di dinding\n",
      "6 botol bir\n",
      "Ambil satu ke bawah, lewati di sekitar\n",
      "5 botol bir di dinding\n",
      "\n",
      "5 botol bir di dinding\n",
      "5 botol bir\n",
      "Ambil satu ke bawah, lewati di sekitar\n",
      "4 botol bir di dinding\n",
      "\n",
      "4 botol bir di dinding\n",
      "4 botol bir\n",
      "Ambil satu ke bawah, lewati di sekitar\n",
      "3 botol bir di dinding\n",
      "\n",
      "3 botol bir di dinding\n",
      "3 botol bir\n",
      "Ambil satu ke bawah, lewati di sekitar\n",
      "2 botol bir di dinding\n",
      "\n",
      "2 botol bir di dinding\n",
      "2 botol bir\n",
      "Ambil satu ke bawah, lewati di sekitar\n",
      "1 botol bir di dinding\n",
      "\n",
      "1 botol bir di dinding\n",
      "1 botol bir\n",
      "Ambil satu ke bawah, lewati di sekitar\n",
      "Tidak ada lagi botol bir di dinding\n",
      "\n"
     ]
    }
   ],
   "source": [
    "# 99_bottles.py\n",
    "for i in range(99, 0, -1):\n",
    "    print(f\"{i} botol bir di dinding\")\n",
    "    print(f\"{i} botol bir\")\n",
    "    print(\"Ambil satu ke bawah, lewati di sekitar\")\n",
    "    if i - 1 > 0:\n",
    "        print(f\"{i - 1} botol bir di dinding\\n\")\n",
    "    else:\n",
    "        print(\"Tidak ada lagi botol bir di dinding\\n\")\n"
   ]
  },
  {
   "cell_type": "code",
   "execution_count": 2,
   "id": "ba3053b1-344d-44b3-b02b-ae9946846a0e",
   "metadata": {},
   "outputs": [
    {
     "name": "stdout",
     "output_type": "stream",
     "text": [
      "1\n",
      "2\n",
      "Fizz\n",
      "4\n",
      "Buzz\n",
      "Fizz\n",
      "7\n",
      "8\n",
      "Fizz\n",
      "Buzz\n",
      "11\n",
      "Fizz\n",
      "13\n",
      "14\n",
      "FizzBuzz\n",
      "16\n",
      "17\n",
      "Fizz\n",
      "19\n",
      "Buzz\n",
      "Fizz\n",
      "22\n",
      "23\n",
      "Fizz\n",
      "Buzz\n",
      "26\n",
      "Fizz\n",
      "28\n",
      "29\n",
      "FizzBuzz\n",
      "31\n",
      "32\n",
      "Fizz\n",
      "34\n",
      "Buzz\n",
      "Fizz\n",
      "37\n",
      "38\n",
      "Fizz\n",
      "Buzz\n",
      "41\n",
      "Fizz\n",
      "43\n",
      "44\n",
      "FizzBuzz\n",
      "46\n",
      "47\n",
      "Fizz\n",
      "49\n",
      "Buzz\n",
      "Fizz\n",
      "52\n",
      "53\n",
      "Fizz\n",
      "Buzz\n",
      "56\n",
      "Fizz\n",
      "58\n",
      "59\n",
      "FizzBuzz\n",
      "61\n",
      "62\n",
      "Fizz\n",
      "64\n",
      "Buzz\n",
      "Fizz\n",
      "67\n",
      "68\n",
      "Fizz\n",
      "Buzz\n",
      "71\n",
      "Fizz\n",
      "73\n",
      "74\n",
      "FizzBuzz\n",
      "76\n",
      "77\n",
      "Fizz\n",
      "79\n",
      "Buzz\n",
      "Fizz\n",
      "82\n",
      "83\n",
      "Fizz\n",
      "Buzz\n",
      "86\n",
      "Fizz\n",
      "88\n",
      "89\n",
      "FizzBuzz\n",
      "91\n",
      "92\n",
      "Fizz\n",
      "94\n",
      "Buzz\n",
      "Fizz\n",
      "97\n",
      "98\n",
      "Fizz\n",
      "Buzz\n"
     ]
    }
   ],
   "source": [
    "# File: fizz_buzz.py : latihan logika dasar\n",
    "for i in range(1, 101):\n",
    "    if i % 3 == 0 and i % 5 == 0:\n",
    "        print(\"FizzBuzz\")\n",
    "    elif i % 3 == 0:\n",
    "        print(\"Fizz\")\n",
    "    elif i % 5 == 0:\n",
    "        print(\"Buzz\")\n",
    "    else:\n",
    "        print(i)\n"
   ]
  },
  {
   "cell_type": "code",
   "execution_count": 4,
   "id": "22a03b3c-1f49-4b4e-9e6c-562ee517b7dc",
   "metadata": {},
   "outputs": [
    {
     "name": "stdout",
     "output_type": "stream",
     "text": [
      "1\n",
      "2\n",
      "3\n",
      "4\n",
      "5\n",
      "6\n",
      "7\n",
      "8\n",
      "9\n",
      "10\n",
      "11\n",
      "12\n",
      "13\n",
      "14\n",
      "15\n",
      "16\n",
      "17\n",
      "Yay I got my lucky number 18! 🍀\n"
     ]
    }
   ],
   "source": [
    "#Mencari Angka Keberuntungan dengan Looping Bersarang dan random.randint\n",
    "\n",
    "import random\n",
    "\n",
    "lucky_number = random.randint(1, 99)\n",
    "not_found = True\n",
    "\n",
    "while not_found:\n",
    "  for i in range(1, 100):\n",
    "    if i == lucky_number:\n",
    "      not_found = False\n",
    "      break\n",
    "    else:\n",
    "      print(i)\n",
    "\n",
    "print(f\"Yay I got my lucky number {lucky_number}! 🍀\")"
   ]
  },
  {
   "cell_type": "code",
   "execution_count": 1,
   "id": "d69fc497-43ec-48d4-bcda-87ccad8560bf",
   "metadata": {},
   "outputs": [
    {
     "name": "stdout",
     "output_type": "stream",
     "text": [
      "10\n",
      "9\n",
      "8\n",
      "7\n",
      "6\n",
      "5\n",
      "4\n",
      "3\n",
      "2\n",
      "1\n",
      "Selamat Tahun Baru! 🥳\n"
     ]
    }
   ],
   "source": [
    "#hitung mundur \n",
    "\n",
    "for i in range(10, 0, -1):\n",
    "    print(i)\n",
    "print(\"Selamat Tahun Baru! 🥳\")\n"
   ]
  },
  {
   "cell_type": "code",
   "execution_count": 2,
   "id": "b4eda9a5-55ed-4d31-8237-0c6297bc7613",
   "metadata": {},
   "outputs": [
    {
     "name": "stdout",
     "output_type": "stream",
     "text": [
      "Nope\n",
      "Nope\n",
      "Nope\n",
      "Nope\n",
      "Nope\n",
      "Nope\n",
      "Nope\n",
      "Nope\n",
      "Nope\n",
      "Nope\n",
      "Nope\n",
      "Nope\n",
      "Nope\n",
      "Nope\n",
      "Nope\n",
      "Nope\n",
      "Nope\n",
      "Nope\n",
      "Nope\n",
      "Nope\n",
      "Nope\n",
      "Nope\n",
      "Nope\n",
      "Nope\n",
      "Nope\n",
      "Nope\n",
      "Nope\n",
      "Nope\n",
      "Nope\n",
      "Nope\n",
      "Nope\n",
      "Nope\n",
      "Nope\n",
      "Nope\n",
      "Nope\n",
      "Nope\n",
      "Nope\n",
      "Nope\n",
      "Nope\n",
      "Nope\n",
      "Nope\n",
      "Nope\n",
      "Nope\n",
      "Nope\n",
      "Nope\n",
      "Nope\n",
      "Nope\n",
      "Nope\n",
      "Nope\n",
      "Nope\n",
      "Nope\n",
      "Nope\n",
      "Nope\n",
      "Nope\n",
      "Nope\n",
      "Nope\n",
      "Nope\n",
      "Nope\n",
      "Nope\n",
      "Nope\n",
      "Nope\n",
      "Nope\n",
      "Nope\n",
      "Nope\n",
      "Nope\n",
      "Nope\n",
      "Nope\n",
      "Nope\n",
      "Nope\n",
      "Nope\n",
      "Nope\n",
      "Nope\n",
      "Nope\n",
      "Nope\n",
      "Snake eyes!\n"
     ]
    }
   ],
   "source": [
    "#melempar dadu sampai mendapatkan snake eyes\\\n",
    "\n",
    "import random\n",
    "\n",
    "die1 = random.randint(1, 6)\n",
    "die2 = random.randint(1, 6)\n",
    "total = die1 + die2\n",
    "\n",
    "while total != 2:\n",
    "    print(\"Nope\")\n",
    "    die1 = random.randint(1, 6)\n",
    "    die2 = random.randint(1, 6)\n",
    "    total = die1 + die2\n",
    "\n",
    "print(\"Snake eyes!\")\n"
   ]
  },
  {
   "cell_type": "code",
   "execution_count": 3,
   "id": "2b5bdf33-3494-4c1b-999e-ec768ae17432",
   "metadata": {},
   "outputs": [
    {
     "name": "stdout",
     "output_type": "stream",
     "text": [
      "* \n",
      "* * \n",
      "* * * \n",
      "* * * * \n",
      "* * * * * \n",
      "* * * * * * \n",
      "* * * * * * * \n",
      "* * * * * * * * \n",
      "* * * * * * * * * \n",
      "* * * * * * * * * * \n",
      "* * * * * * * * * * * \n",
      "* * * * * * * * * * * * \n",
      "* * * * * * * * * * * * * \n",
      "* * * * * * * * * * * * * * \n",
      "* * * * * * * * * * * * * * * \n",
      "* * * * * * * * * * * * * * * * \n",
      "* * * * * * * * * * * * * * * * * \n",
      "* * * * * * * * * * * * * * * * * * \n",
      "* * * * * * * * * * * * * * * * * * * \n",
      "* * * * * * * * * * * * * * * * * * * * \n",
      "* * * * * * * * * * * * * * * * * * * * * \n",
      "* * * * * * * * * * * * * * * * * * * * * * \n",
      "* * * * * * * * * * * * * * * * * * * * * * * \n",
      "* * * * * * * * * * * * * * * * * * * * * * * * \n"
     ]
    }
   ],
   "source": [
    "# menapilkan bintang 24 baris\n",
    "\n",
    "for i in range(1, 25):\n",
    "    print(\"* \" * i)\n"
   ]
  },
  {
   "cell_type": "code",
   "execution_count": 2,
   "id": "053b39ac-e674-4295-93e1-9f94081286ff",
   "metadata": {},
   "outputs": [
    {
     "name": "stdin",
     "output_type": "stream",
     "text": [
      "Masukkan sebuah bilangan bulat:  60\n"
     ]
    },
    {
     "name": "stdout",
     "output_type": "stream",
     "text": [
      "73810\n"
     ]
    }
   ],
   "source": [
    "#menghitung bilsngsn kuadrat bilangan bulat\n",
    "\n",
    "number = int(input(\"Masukkan sebuah bilangan bulat: \"))\n",
    "total = 0\n",
    "\n",
    "for i in range(1, number + 1):\n",
    "    square = i ** 2\n",
    "    total = total + square\n",
    "\n",
    "print(total)\n"
   ]
  },
  {
   "cell_type": "code",
   "execution_count": 1,
   "id": "069af0df-1a36-47c0-aed5-758591c9e781",
   "metadata": {},
   "outputs": [
    {
     "name": "stdout",
     "output_type": "stream",
     "text": [
      "====================\n",
      " Area Calculator \n",
      "====================\n",
      "1) Triangle\n",
      "2) Rectangle\n",
      "3) Square\n",
      "4) Circle\n",
      "5) Quit\n"
     ]
    },
    {
     "name": "stdin",
     "output_type": "stream",
     "text": [
      "Which shape:  1\n",
      "Base:  4\n",
      "Height:  8\n"
     ]
    },
    {
     "name": "stdout",
     "output_type": "stream",
     "text": [
      "The area is 16.0\n",
      "====================\n",
      " Area Calculator \n",
      "====================\n",
      "1) Triangle\n",
      "2) Rectangle\n",
      "3) Square\n",
      "4) Circle\n",
      "5) Quit\n"
     ]
    },
    {
     "name": "stdin",
     "output_type": "stream",
     "text": [
      "Which shape:  5\n"
     ]
    },
    {
     "name": "stdout",
     "output_type": "stream",
     "text": [
      "Goodbye!\n"
     ]
    }
   ],
   "source": [
    "#Area Calculator – Program Penghitung Luas Bangun Datar\n",
    "\n",
    "import math\n",
    "\n",
    "while True:\n",
    "    print(\"====================\")\n",
    "    print(\" Area Calculator \")\n",
    "    print(\"====================\")\n",
    "    print(\"1) Triangle\")\n",
    "    print(\"2) Rectangle\")\n",
    "    print(\"3) Square\")\n",
    "    print(\"4) Circle\")\n",
    "    print(\"5) Quit\")\n",
    "\n",
    "    choice = input(\"Which shape: \")\n",
    "\n",
    "    if choice == \"1\":  # Triangle\n",
    "        base = float(input(\"Base: \"))\n",
    "        height = float(input(\"Height: \"))\n",
    "        area = (base * height) / 2\n",
    "        print(f\"The area is {area}\")\n",
    "\n",
    "    elif choice == \"2\":  # Rectangle\n",
    "        length = float(input(\"Length: \"))\n",
    "        width = float(input(\"Width: \"))\n",
    "        area = length * width\n",
    "        print(f\"The area is {area}\")\n",
    "\n",
    "    elif choice == \"3\":  # Square\n",
    "        side = float(input(\"Side: \"))\n",
    "        area = side ** 2\n",
    "        print(f\"The area is {area}\")\n",
    "\n",
    "    elif choice == \"4\":  # Circle\n",
    "        radius = float(input(\"Radius: \"))\n",
    "        area = math.pi * (radius ** 2)\n",
    "        print(f\"The area is {area}\")\n",
    "\n",
    "    elif choice == \"5\":  # Quit\n",
    "        print(\"Goodbye!\")\n",
    "        break\n",
    "\n",
    "    else:\n",
    "        print(\"Invalid choice, please try again.\")\n"
   ]
  },
  {
   "cell_type": "code",
   "execution_count": 5,
   "id": "8cf6254b-bcb6-4fcf-9d81-22807bc6f410",
   "metadata": {},
   "outputs": [
    {
     "name": "stdout",
     "output_type": "stream",
     "text": [
      "\n",
      "=== Rock Paper Scissors Game ===\n",
      "Pilih Mode Permainan:\n",
      "1) Versi klasik (🪨📄✂️)\n",
      "2) Versi lengkap (🪨📄✂️🦎🖖)\n"
     ]
    },
    {
     "name": "stdin",
     "output_type": "stream",
     "text": [
      "Pilih mode (1 atau 2):  1\n",
      "Main sampai berapa poin?  1\n"
     ]
    },
    {
     "name": "stdout",
     "output_type": "stream",
     "text": [
      "\n",
      "📜 Aturan Versi Klasik:\n",
      "- 🪨 Rock mengalahkan ✂️ Scissors\n",
      "- 📄 Paper mengalahkan 🪨 Rock\n",
      "- ✂️ Scissors mengalahkan 📄 Paper\n",
      "- Jika pilihan sama → Seri!\n",
      "\n",
      "\n",
      "Pilih senjatamu:\n",
      "1) 🪨 Rock\n",
      "2) 📄 Paper\n",
      "3) ✂️ Scissors\n"
     ]
    },
    {
     "name": "stdin",
     "output_type": "stream",
     "text": [
      "Pilih nomor (1-3):  2\n"
     ]
    },
    {
     "name": "stdout",
     "output_type": "stream",
     "text": [
      "\n",
      "Kamu memilih: 📄\n",
      "CPU memilih: 📄\n",
      "Hasil: Seri!\n",
      "Skor: Kamu 0 - CPU 0\n",
      "\n",
      "Pilih senjatamu:\n",
      "1) 🪨 Rock\n",
      "2) 📄 Paper\n",
      "3) ✂️ Scissors\n"
     ]
    },
    {
     "name": "stdin",
     "output_type": "stream",
     "text": [
      "Pilih nomor (1-3):  2\n"
     ]
    },
    {
     "name": "stdout",
     "output_type": "stream",
     "text": [
      "\n",
      "Kamu memilih: 📄\n",
      "CPU memilih: ✂️\n",
      "Hasil: CPU menang!\n",
      "Skor: Kamu 0 - CPU 1\n",
      "\n",
      "🏆 Permainan Selesai!\n",
      "💻 CPU adalah pemenang!\n"
     ]
    },
    {
     "name": "stdin",
     "output_type": "stream",
     "text": [
      "\n",
      "Mau main lagi? (y/n):  y\n"
     ]
    },
    {
     "name": "stdout",
     "output_type": "stream",
     "text": [
      "\n",
      "=== Rock Paper Scissors Game ===\n",
      "Pilih Mode Permainan:\n",
      "1) Versi klasik (🪨📄✂️)\n",
      "2) Versi lengkap (🪨📄✂️🦎🖖)\n"
     ]
    },
    {
     "name": "stdin",
     "output_type": "stream",
     "text": [
      "Pilih mode (1 atau 2):  2\n",
      "Main sampai berapa poin?  1\n"
     ]
    },
    {
     "name": "stdout",
     "output_type": "stream",
     "text": [
      "\n",
      "📜 Aturan Versi Lizard Spock:\n",
      "- ✂️ Scissors memotong 📄 Paper\n",
      "- 📄 Paper menutupi 🪨 Rock\n",
      "- 🪨 Rock menghancurkan 🦎 Lizard\n",
      "- 🦎 Lizard meracuni 🖖 Spock\n",
      "- 🖖 Spock menghancurkan ✂️ Scissors\n",
      "- ✂️ Scissors memenggal 🦎 Lizard\n",
      "- 🦎 Lizard memakan 📄 Paper\n",
      "- 📄 Paper membantah 🖖 Spock\n",
      "- 🖖 Spock menguapkan 🪨 Rock\n",
      "- 🪨 Rock menghancurkan ✂️ Scissors\n",
      "- Jika pilihan sama → Seri!\n",
      "\n",
      "\n",
      "Pilih senjatamu:\n",
      "1) 🪨 Rock\n",
      "2) 📄 Paper\n",
      "3) ✂️ Scissors\n",
      "4) 🖖 Spock\n",
      "5) 🦎 Lizard\n"
     ]
    },
    {
     "name": "stdin",
     "output_type": "stream",
     "text": [
      "Pilih nomor (1-5):  5\n"
     ]
    },
    {
     "name": "stdout",
     "output_type": "stream",
     "text": [
      "\n",
      "Kamu memilih: 🦎\n",
      "CPU memilih: 🪨\n",
      "Hasil: CPU menang!\n",
      "Skor: Kamu 0 - CPU 1\n",
      "\n",
      "🏆 Permainan Selesai!\n",
      "💻 CPU adalah pemenang!\n"
     ]
    },
    {
     "name": "stdin",
     "output_type": "stream",
     "text": [
      "\n",
      "Mau main lagi? (y/n):  n\n"
     ]
    },
    {
     "name": "stdout",
     "output_type": "stream",
     "text": [
      "👋 Terima kasih sudah bermain!\n"
     ]
    }
   ],
   "source": [
    "#Rock Paper Scissors + Lizard Spock\n",
    "\n",
    "import random\n",
    "\n",
    "def tampilkan_aturan(mode):\n",
    "    if mode == 1:\n",
    "        print(\"\\n📜 Aturan Versi Klasik:\")\n",
    "        print(\"- 🪨 Rock mengalahkan ✂️ Scissors\")\n",
    "        print(\"- 📄 Paper mengalahkan 🪨 Rock\")\n",
    "        print(\"- ✂️ Scissors mengalahkan 📄 Paper\")\n",
    "        print(\"- Jika pilihan sama → Seri!\\n\")\n",
    "    elif mode == 2:\n",
    "        print(\"\\n📜 Aturan Versi Lizard Spock:\")\n",
    "        print(\"- ✂️ Scissors memotong 📄 Paper\")\n",
    "        print(\"- 📄 Paper menutupi 🪨 Rock\")\n",
    "        print(\"- 🪨 Rock menghancurkan 🦎 Lizard\")\n",
    "        print(\"- 🦎 Lizard meracuni 🖖 Spock\")\n",
    "        print(\"- 🖖 Spock menghancurkan ✂️ Scissors\")\n",
    "        print(\"- ✂️ Scissors memenggal 🦎 Lizard\")\n",
    "        print(\"- 🦎 Lizard memakan 📄 Paper\")\n",
    "        print(\"- 📄 Paper membantah 🖖 Spock\")\n",
    "        print(\"- 🖖 Spock menguapkan 🪨 Rock\")\n",
    "        print(\"- 🪨 Rock menghancurkan ✂️ Scissors\")\n",
    "        print(\"- Jika pilihan sama → Seri!\\n\")\n",
    "\n",
    "def main():\n",
    "    while True:\n",
    "        print(\"\\n=== Rock Paper Scissors Game ===\")\n",
    "        print(\"Pilih Mode Permainan:\")\n",
    "        print(\"1) Versi klasik (🪨📄✂️)\")\n",
    "        print(\"2) Versi lengkap (🪨📄✂️🦎🖖)\")\n",
    "\n",
    "        try:\n",
    "            mode = int(input(\"Pilih mode (1 atau 2): \"))\n",
    "            if mode not in [1, 2]:\n",
    "                print(\"❌ Mode tidak valid!\")\n",
    "                continue\n",
    "        except ValueError:\n",
    "            print(\"❌ Masukkan angka yang benar!\")\n",
    "            continue\n",
    "\n",
    "        try:\n",
    "            target_score = int(input(\"Main sampai berapa poin? \"))\n",
    "            if target_score <= 0:\n",
    "                print(\"❌ Poin harus lebih dari 0!\")\n",
    "                continue\n",
    "        except ValueError:\n",
    "            print(\"❌ Masukkan angka yang benar!\")\n",
    "            continue\n",
    "\n",
    "        player_score = 0\n",
    "        cpu_score = 0\n",
    "\n",
    "        tampilkan_aturan(mode)\n",
    "\n",
    "        if mode == 1:\n",
    "            choices = {1: \"🪨\", 2: \"📄\", 3: \"✂️\"}\n",
    "        else:\n",
    "            choices = {1: \"🪨\", 2: \"📄\", 3: \"✂️\", 4: \"🖖\", 5: \"🦎\"}\n",
    "            win_conditions = {\n",
    "                1: [3, 5],  # Rock beats Scissors & Lizard\n",
    "                2: [1, 4],  # Paper beats Rock & Spock\n",
    "                3: [2, 5],  # Scissors beats Paper & Lizard\n",
    "                4: [1, 3],  # Spock beats Rock & Scissors\n",
    "                5: [2, 4]   # Lizard beats Paper & Spock\n",
    "            }\n",
    "\n",
    "        while player_score < target_score and cpu_score < target_score:\n",
    "            print(\"\\nPilih senjatamu:\")\n",
    "            for num, symbol in choices.items():\n",
    "                print(f\"{num}) {symbol} {['Rock','Paper','Scissors','Spock','Lizard'][num-1]}\")\n",
    "\n",
    "            try:\n",
    "                player = int(input(f\"Pilih nomor (1-{len(choices)}): \"))\n",
    "                if player not in choices:\n",
    "                    print(\"❌ Pilihan tidak valid!\")\n",
    "                    continue\n",
    "            except ValueError:\n",
    "                print(\"❌ Masukkan angka yang benar!\")\n",
    "                continue\n",
    "\n",
    "            computer = random.randint(1, len(choices))\n",
    "            print(f\"\\nKamu memilih: {choices[player]}\")\n",
    "            print(f\"CPU memilih: {choices[computer]}\")\n",
    "\n",
    "            if player == computer:\n",
    "                print(\"Hasil: Seri!\")\n",
    "            elif mode == 1:\n",
    "                if (player == 1 and computer == 3) or \\\n",
    "                   (player == 2 and computer == 1) or \\\n",
    "                   (player == 3 and computer == 2):\n",
    "                    print(\"Hasil: Kamu menang!\")\n",
    "                    player_score += 1\n",
    "                else:\n",
    "                    print(\"Hasil: CPU menang!\")\n",
    "                    cpu_score += 1\n",
    "            else:\n",
    "                if computer in win_conditions[player]:\n",
    "                    print(\"Hasil: Kamu menang!\")\n",
    "                    player_score += 1\n",
    "                else:\n",
    "                    print(\"Hasil: CPU menang!\")\n",
    "                    cpu_score += 1\n",
    "\n",
    "            print(f\"Skor: Kamu {player_score} - CPU {cpu_score}\")\n",
    "\n",
    "        # Tampilkan pemenang\n",
    "        print(\"\\n🏆 Permainan Selesai!\")\n",
    "        if player_score > cpu_score:\n",
    "            print(\"🎉 Kamu adalah pemenang!\")\n",
    "        else:\n",
    "            print(\"💻 CPU adalah pemenang!\")\n",
    "\n",
    "        # Tanya main lagi\n",
    "        ulang = input(\"\\nMau main lagi? (y/n): \").lower()\n",
    "        if ulang != 'y':\n",
    "            print(\"👋 Terima kasih sudah bermain!\")\n",
    "            break\n",
    "\n",
    "if __name__ == \"__main__\":\n",
    "    main()"
   ]
  },
  {
   "cell_type": "code",
   "execution_count": 6,
   "id": "7eb21399-c4c7-4607-ada2-a63fe5318474",
   "metadata": {},
   "outputs": [
    {
     "name": "stdout",
     "output_type": "stream",
     "text": [
      "=== Mini RPG: Petualangan Sang Pahlawan ===\n",
      "Pilih senjata awal:\n",
      "- Pedang (Damage 10-20) - Gratis\n",
      "- Tombak (Damage 8-25) - Gratis\n",
      "- Busur (Damage 5-30) - Gratis\n"
     ]
    },
    {
     "name": "stdin",
     "output_type": "stream",
     "text": [
      "Masukkan pilihan senjata:  busur\n"
     ]
    },
    {
     "name": "stdout",
     "output_type": "stream",
     "text": [
      "\n",
      "📜 Quest Baru: Kalahkan 2 Bandit untuk mendapatkan 56 gold!\n",
      "\n",
      "=== Wave 1: Bandit muncul! ===\n",
      "\n",
      "❤️ HP: 100/100 | ⚔️ Senjata: Busur | 🔹 Level: 1 | 🧪 Potion: 2 | 💰 Gold: 0\n",
      "\n",
      "Pilih aksi:\n",
      "1. ⚔️ Serang\n",
      "2. 🛡️ Bertahan\n",
      "3. 💊 Gunakan Potion\n"
     ]
    },
    {
     "name": "stdin",
     "output_type": "stream",
     "text": [
      "Masukkan pilihan:  1\n"
     ]
    },
    {
     "name": "stdout",
     "output_type": "stream",
     "text": [
      "Kamu menyerang Bandit dan memberi 10 damage!\n",
      "Bandit menyerang dan memberi 9 damage!\n",
      "\n",
      "❤️ HP: 91/100 | ⚔️ Senjata: Busur | 🔹 Level: 1 | 🧪 Potion: 2 | 💰 Gold: 0\n",
      "\n",
      "Pilih aksi:\n",
      "1. ⚔️ Serang\n",
      "2. 🛡️ Bertahan\n",
      "3. 💊 Gunakan Potion\n"
     ]
    },
    {
     "name": "stdin",
     "output_type": "stream",
     "text": [
      "Masukkan pilihan:  1\n"
     ]
    },
    {
     "name": "stdout",
     "output_type": "stream",
     "text": [
      "Kamu menyerang Bandit dan memberi 29 damage!\n",
      "Bandit menyerang dan memberi 15 damage!\n",
      "\n",
      "❤️ HP: 76/100 | ⚔️ Senjata: Busur | 🔹 Level: 1 | 🧪 Potion: 2 | 💰 Gold: 0\n",
      "\n",
      "Pilih aksi:\n",
      "1. ⚔️ Serang\n",
      "2. 🛡️ Bertahan\n",
      "3. 💊 Gunakan Potion\n"
     ]
    },
    {
     "name": "stdin",
     "output_type": "stream",
     "text": [
      "Masukkan pilihan:  3\n"
     ]
    },
    {
     "name": "stdout",
     "output_type": "stream",
     "text": [
      "Kamu meminum potion dan memulihkan 36 HP!\n",
      "Bandit menyerang dan memberi 11 damage!\n",
      "\n",
      "❤️ HP: 89/100 | ⚔️ Senjata: Busur | 🔹 Level: 1 | 🧪 Potion: 1 | 💰 Gold: 0\n",
      "\n",
      "Pilih aksi:\n",
      "1. ⚔️ Serang\n",
      "2. 🛡️ Bertahan\n",
      "3. 💊 Gunakan Potion\n"
     ]
    },
    {
     "name": "stdin",
     "output_type": "stream",
     "text": [
      "Masukkan pilihan:  1\n"
     ]
    },
    {
     "name": "stdout",
     "output_type": "stream",
     "text": [
      "Kamu menyerang Bandit dan memberi 17 damage!\n",
      "Bandit menyerang dan memberi 10 damage!\n",
      "\n",
      "❤️ HP: 79/100 | ⚔️ Senjata: Busur | 🔹 Level: 1 | 🧪 Potion: 1 | 💰 Gold: 0\n",
      "\n",
      "Pilih aksi:\n",
      "1. ⚔️ Serang\n",
      "2. 🛡️ Bertahan\n",
      "3. 💊 Gunakan Potion\n"
     ]
    },
    {
     "name": "stdin",
     "output_type": "stream",
     "text": [
      "Masukkan pilihan:  1\n"
     ]
    },
    {
     "name": "stdout",
     "output_type": "stream",
     "text": [
      "Kamu menyerang Bandit dan memberi 23 damage!\n",
      "\n",
      "🏆 Bandit dikalahkan!\n",
      "💰 Kamu mendapatkan 20 gold!\n",
      "🧪 Musuh menjatuhkan 1 potion!\n",
      "\n",
      "=== Wave 2: Serigala Liar muncul! ===\n",
      "\n",
      "❤️ HP: 79/100 | ⚔️ Senjata: Busur | 🔹 Level: 1 | 🧪 Potion: 2 | 💰 Gold: 20\n",
      "\n",
      "Pilih aksi:\n",
      "1. ⚔️ Serang\n",
      "2. 🛡️ Bertahan\n",
      "3. 💊 Gunakan Potion\n"
     ]
    },
    {
     "name": "stdin",
     "output_type": "stream",
     "text": [
      "Masukkan pilihan:  3\n"
     ]
    },
    {
     "name": "stdout",
     "output_type": "stream",
     "text": [
      "Kamu meminum potion dan memulihkan 22 HP!\n",
      "Serigala Liar menyerang dan memberi 17 damage!\n",
      "\n",
      "❤️ HP: 83/100 | ⚔️ Senjata: Busur | 🔹 Level: 1 | 🧪 Potion: 1 | 💰 Gold: 20\n",
      "\n",
      "Pilih aksi:\n",
      "1. ⚔️ Serang\n",
      "2. 🛡️ Bertahan\n",
      "3. 💊 Gunakan Potion\n"
     ]
    },
    {
     "name": "stdin",
     "output_type": "stream",
     "text": [
      "Masukkan pilihan:  1\n"
     ]
    },
    {
     "name": "stdout",
     "output_type": "stream",
     "text": [
      "Kamu menyerang Serigala Liar dan memberi 22 damage!\n",
      "Serigala Liar menyerang dan memberi 14 damage!\n",
      "\n",
      "❤️ HP: 69/100 | ⚔️ Senjata: Busur | 🔹 Level: 1 | 🧪 Potion: 1 | 💰 Gold: 20\n",
      "\n",
      "Pilih aksi:\n",
      "1. ⚔️ Serang\n",
      "2. 🛡️ Bertahan\n",
      "3. 💊 Gunakan Potion\n"
     ]
    },
    {
     "name": "stdin",
     "output_type": "stream",
     "text": [
      "Masukkan pilihan:  1\n"
     ]
    },
    {
     "name": "stdout",
     "output_type": "stream",
     "text": [
      "Kamu menyerang Serigala Liar dan memberi 24 damage!\n",
      "Serigala Liar menyerang dan memberi 13 damage!\n",
      "\n",
      "❤️ HP: 56/100 | ⚔️ Senjata: Busur | 🔹 Level: 1 | 🧪 Potion: 1 | 💰 Gold: 20\n",
      "\n",
      "Pilih aksi:\n",
      "1. ⚔️ Serang\n",
      "2. 🛡️ Bertahan\n",
      "3. 💊 Gunakan Potion\n"
     ]
    },
    {
     "name": "stdin",
     "output_type": "stream",
     "text": [
      "Masukkan pilihan:  3\n"
     ]
    },
    {
     "name": "stdout",
     "output_type": "stream",
     "text": [
      "Kamu meminum potion dan memulihkan 20 HP!\n",
      "Serigala Liar menyerang dan memberi 15 damage!\n",
      "\n",
      "❤️ HP: 61/100 | ⚔️ Senjata: Busur | 🔹 Level: 1 | 🧪 Potion: 0 | 💰 Gold: 20\n",
      "\n",
      "Pilih aksi:\n",
      "1. ⚔️ Serang\n",
      "2. 🛡️ Bertahan\n",
      "3. 💊 Gunakan Potion\n"
     ]
    },
    {
     "name": "stdin",
     "output_type": "stream",
     "text": [
      "Masukkan pilihan:  3\n"
     ]
    },
    {
     "name": "stdout",
     "output_type": "stream",
     "text": [
      "Potion habis!\n",
      "Serigala Liar menyerang dan memberi 16 damage!\n",
      "\n",
      "❤️ HP: 45/100 | ⚔️ Senjata: Busur | 🔹 Level: 1 | 🧪 Potion: 0 | 💰 Gold: 20\n",
      "\n",
      "Pilih aksi:\n",
      "1. ⚔️ Serang\n",
      "2. 🛡️ Bertahan\n",
      "3. 💊 Gunakan Potion\n"
     ]
    },
    {
     "name": "stdin",
     "output_type": "stream",
     "text": [
      "Masukkan pilihan:  2\n"
     ]
    },
    {
     "name": "stdout",
     "output_type": "stream",
     "text": [
      "Kamu bersiap bertahan dari serangan musuh!\n",
      "Serigala Liar menyerang dan memberi 6 damage!\n",
      "\n",
      "❤️ HP: 39/100 | ⚔️ Senjata: Busur | 🔹 Level: 1 | 🧪 Potion: 0 | 💰 Gold: 20\n",
      "\n",
      "Pilih aksi:\n",
      "1. ⚔️ Serang\n",
      "2. 🛡️ Bertahan\n",
      "3. 💊 Gunakan Potion\n"
     ]
    },
    {
     "name": "stdin",
     "output_type": "stream",
     "text": [
      "Masukkan pilihan:  3\n"
     ]
    },
    {
     "name": "stdout",
     "output_type": "stream",
     "text": [
      "Potion habis!\n",
      "Serigala Liar menyerang dan memberi 13 damage!\n",
      "\n",
      "❤️ HP: 26/100 | ⚔️ Senjata: Busur | 🔹 Level: 1 | 🧪 Potion: 0 | 💰 Gold: 20\n",
      "\n",
      "Pilih aksi:\n",
      "1. ⚔️ Serang\n",
      "2. 🛡️ Bertahan\n",
      "3. 💊 Gunakan Potion\n"
     ]
    },
    {
     "name": "stdin",
     "output_type": "stream",
     "text": [
      "Masukkan pilihan:  1\n"
     ]
    },
    {
     "name": "stdout",
     "output_type": "stream",
     "text": [
      "Kamu menyerang Serigala Liar dan memberi 28 damage!\n",
      "\n",
      "🏆 Serigala Liar dikalahkan!\n",
      "💰 Kamu mendapatkan 19 gold!\n",
      "\n",
      "=== Wave 3: Serigala Liar muncul! ===\n",
      "\n",
      "❤️ HP: 26/100 | ⚔️ Senjata: Busur | 🔹 Level: 1 | 🧪 Potion: 0 | 💰 Gold: 39\n",
      "\n",
      "Pilih aksi:\n",
      "1. ⚔️ Serang\n",
      "2. 🛡️ Bertahan\n",
      "3. 💊 Gunakan Potion\n"
     ]
    },
    {
     "name": "stdin",
     "output_type": "stream",
     "text": [
      "Masukkan pilihan:  3\n"
     ]
    },
    {
     "name": "stdout",
     "output_type": "stream",
     "text": [
      "Potion habis!\n",
      "Serigala Liar menyerang dan memberi 13 damage!\n",
      "\n",
      "❤️ HP: 13/100 | ⚔️ Senjata: Busur | 🔹 Level: 1 | 🧪 Potion: 0 | 💰 Gold: 39\n",
      "\n",
      "Pilih aksi:\n",
      "1. ⚔️ Serang\n",
      "2. 🛡️ Bertahan\n",
      "3. 💊 Gunakan Potion\n"
     ]
    },
    {
     "name": "stdin",
     "output_type": "stream",
     "text": [
      "Masukkan pilihan:  3\n"
     ]
    },
    {
     "name": "stdout",
     "output_type": "stream",
     "text": [
      "Potion habis!\n",
      "Serigala Liar menyerang dan memberi 13 damage!\n",
      "\n",
      "💀 Kamu kalah... Petualangan berakhir.\n"
     ]
    }
   ],
   "source": [
    "#Simple RPG\n",
    "\n",
    "import random\n",
    "import time\n",
    "\n",
    "# Data senjata (nama: [min_damage, max_damage, harga])\n",
    "weapons = {\n",
    "    \"pedang\": [10, 20, 0],\n",
    "    \"tombak\": [8, 25, 50],\n",
    "    \"busur\": [5, 30, 70],\n",
    "    \"kapak\": [15, 35, 100],\n",
    "    \"pedang legendaris\": [20, 45, 200],\n",
    "    \"tombak naga\": [25, 55, 0]  # Senjata langka (hadiah Boss)\n",
    "}\n",
    "\n",
    "# Pilih senjata awal\n",
    "print(\"=== Mini RPG: Petualangan Sang Pahlawan ===\")\n",
    "print(\"Pilih senjata awal:\")\n",
    "for w in [\"pedang\", \"tombak\", \"busur\"]:\n",
    "    print(f\"- {w.capitalize()} (Damage {weapons[w][0]}-{weapons[w][1]}) - Gratis\")\n",
    "weapon_choice = input(\"Masukkan pilihan senjata: \").lower()\n",
    "\n",
    "if weapon_choice not in weapons:\n",
    "    weapon_choice = \"pedang\"\n",
    "    print(\"Pilihan tidak valid. Kamu menggunakan Pedang secara default.\")\n",
    "\n",
    "# Stats pemain\n",
    "player_hp = 100\n",
    "player_level = 1\n",
    "player_exp = 0\n",
    "max_hp = 100\n",
    "weapon_min, weapon_max, _ = weapons[weapon_choice]\n",
    "healing_potion = 2\n",
    "gold = 0\n",
    "\n",
    "# Quest sistem\n",
    "current_quest = None\n",
    "quest_progress = 0\n",
    "\n",
    "# Fungsi status\n",
    "def status():\n",
    "    print(f\"\\n❤️ HP: {player_hp}/{max_hp} | ⚔️ Senjata: {weapon_choice.capitalize()} | 🔹 Level: {player_level} | 🧪 Potion: {healing_potion} | 💰 Gold: {gold}\")\n",
    "\n",
    "# Fungsi level up\n",
    "def level_up():\n",
    "    global player_level, player_exp, max_hp, weapon_min, weapon_max\n",
    "    if player_exp >= 100:\n",
    "        player_level += 1\n",
    "        player_exp = 0\n",
    "        max_hp += 20\n",
    "        weapon_min += 2\n",
    "        weapon_max += 4\n",
    "        print(f\"\\n🎉 Naik Level! Sekarang level {player_level}! HP & Damage meningkat!\")\n",
    "\n",
    "# Fungsi toko senjata\n",
    "def shop():\n",
    "    global gold, weapon_choice, weapon_min, weapon_max, healing_potion\n",
    "    print(\"\\n🏪 === Toko Senjata & Item ===\")\n",
    "    print(\"Gold kamu:\", gold)\n",
    "    print(\"Pilihan pembelian:\")\n",
    "    for w, stats in weapons.items():\n",
    "        if w != weapon_choice and stats[2] > 0:\n",
    "            print(f\"- {w.capitalize()} | Damage {stats[0]}-{stats[1]} | Harga {stats[2]} gold\")\n",
    "    print(\"- Potion (+1) | Harga 20 gold\")\n",
    "    pilihan = input(\"Apa yang mau kamu beli? (nama senjata / potion / skip): \").lower()\n",
    "\n",
    "    if pilihan in weapons and weapons[pilihan][2] > 0:\n",
    "        harga = weapons[pilihan][2]\n",
    "        if gold >= harga:\n",
    "            gold -= harga\n",
    "            weapon_choice = pilihan\n",
    "            weapon_min, weapon_max, _ = weapons[weapon_choice]\n",
    "            print(f\"⚔️ Kamu membeli {weapon_choice.capitalize()}! Damage sekarang {weapon_min}-{weapon_max}.\")\n",
    "        else:\n",
    "            print(\"💸 Gold kamu tidak cukup!\")\n",
    "    elif pilihan == \"potion\":\n",
    "        if gold >= 20:\n",
    "            gold -= 20\n",
    "            healing_potion += 1\n",
    "            print(\"🧪 Kamu membeli 1 potion!\")\n",
    "        else:\n",
    "            print(\"💸 Gold kamu tidak cukup!\")\n",
    "    else:\n",
    "        print(\"Kamu tidak membeli apapun.\")\n",
    "\n",
    "# Fungsi quest\n",
    "def generate_quest():\n",
    "    global current_quest, quest_progress\n",
    "    quest_type = random.choice([\"kill\", \"gold\"])\n",
    "    if quest_type == \"kill\":\n",
    "        target = random.choice([\"Goblin\", \"Troll\", \"Serigala Liar\", \"Bandit\"])\n",
    "        jumlah = random.randint(2, 3)\n",
    "        current_quest = {\"type\": \"kill\", \"target\": target, \"jumlah\": jumlah, \"hadiah\": random.randint(30, 60)}\n",
    "        print(f\"\\n📜 Quest Baru: Kalahkan {jumlah} {target} untuk mendapatkan {current_quest['hadiah']} gold!\")\n",
    "    else:\n",
    "        jumlah = random.randint(80, 120)\n",
    "        current_quest = {\"type\": \"gold\", \"jumlah\": jumlah, \"hadiah\": random.randint(30, 60)}\n",
    "        print(f\"\\n📜 Quest Baru: Kumpulkan {jumlah} gold untuk mendapatkan {current_quest['hadiah']} gold tambahan!\")\n",
    "    quest_progress = 0\n",
    "\n",
    "def check_quest(enemy_name):\n",
    "    global quest_progress, gold, current_quest\n",
    "    if current_quest:\n",
    "        if current_quest[\"type\"] == \"kill\" and enemy_name == current_quest.get(\"target\"):\n",
    "            quest_progress += 1\n",
    "        elif current_quest[\"type\"] == \"gold\":\n",
    "            if gold >= current_quest[\"jumlah\"]:\n",
    "                quest_progress = current_quest[\"jumlah\"]  # Selesai\n",
    "\n",
    "        if quest_progress >= current_quest[\"jumlah\"]:\n",
    "            print(f\"\\n✅ Quest Selesai! Kamu mendapatkan {current_quest['hadiah']} gold tambahan!\")\n",
    "            gold += current_quest[\"hadiah\"]\n",
    "            current_quest = None\n",
    "\n",
    "# Pertarungan melawan musuh\n",
    "wave = 1\n",
    "while True:\n",
    "    # Quest setiap 4 wave\n",
    "    if wave % 4 == 1 and not current_quest:\n",
    "        generate_quest()\n",
    "\n",
    "    # Boss battle setiap 5 wave\n",
    "    if wave % 5 == 0:\n",
    "        enemy_hp = 150 + (wave * 15)\n",
    "        enemy_name = random.choice([\"Naga Api\", \"Raja Troll\", \"Iblis Kegelapan\"])\n",
    "        print(f\"\\n🔥 === BOSS WAVE {wave}: {enemy_name} muncul! ===\")\n",
    "    else:\n",
    "        enemy_hp = 50 + (wave * 10)\n",
    "        enemy_name = random.choice([\"Goblin\", \"Troll\", \"Serigala Liar\", \"Bandit\"])\n",
    "        print(f\"\\n=== Wave {wave}: {enemy_name} muncul! ===\")\n",
    "\n",
    "    while player_hp > 0 and enemy_hp > 0:\n",
    "        status()\n",
    "        print(\"\\nPilih aksi:\")\n",
    "        print(\"1. ⚔️ Serang\")\n",
    "        print(\"2. 🛡️ Bertahan\")\n",
    "        print(\"3. 💊 Gunakan Potion\")\n",
    "        \n",
    "        choice = input(\"Masukkan pilihan: \")\n",
    "\n",
    "        # Serang\n",
    "        if choice == \"1\":\n",
    "            damage = random.randint(weapon_min, weapon_max)\n",
    "            enemy_hp -= damage\n",
    "            print(f\"Kamu menyerang {enemy_name} dan memberi {damage} damage!\")\n",
    "        \n",
    "        # Bertahan\n",
    "        elif choice == \"2\":\n",
    "            print(\"Kamu bersiap bertahan dari serangan musuh!\")\n",
    "        \n",
    "        # Gunakan potion\n",
    "        elif choice == \"3\":\n",
    "            if healing_potion > 0:\n",
    "                heal = random.randint(20, 40)\n",
    "                player_hp = min(player_hp + heal, max_hp)\n",
    "                healing_potion -= 1\n",
    "                print(f\"Kamu meminum potion dan memulihkan {heal} HP!\")\n",
    "            else:\n",
    "                print(\"Potion habis!\")\n",
    "        else:\n",
    "            print(\"Pilihan tidak valid!\")\n",
    "        \n",
    "        time.sleep(1)\n",
    "\n",
    "        # Cek apakah musuh kalah\n",
    "        if enemy_hp <= 0:\n",
    "            print(f\"\\n🏆 {enemy_name} dikalahkan!\")\n",
    "            drop_gold = random.randint(15, 30) if wave % 5 != 0 else random.randint(50, 100)\n",
    "            gold += drop_gold\n",
    "            print(f\"💰 Kamu mendapatkan {drop_gold} gold!\")\n",
    "            player_exp += random.randint(40, 60) if wave % 5 != 0 else random.randint(80, 120)\n",
    "            if random.random() < (0.3 if wave % 5 != 0 else 0.6):\n",
    "                healing_potion += 1\n",
    "                print(\"🧪 Musuh menjatuhkan 1 potion!\")\n",
    "            if wave % 5 == 0 and random.random() < 0.5:\n",
    "                weapon_choice = \"tombak naga\"\n",
    "                weapon_min, weapon_max, _ = weapons[weapon_choice]\n",
    "                print(\"⚔️ Loot Langka! Kamu mendapatkan Tombak Naga!\")\n",
    "            check_quest(enemy_name)\n",
    "            level_up()\n",
    "            break\n",
    "\n",
    "        # Musuh menyerang\n",
    "        enemy_damage = random.randint(8 + wave, 15 + wave) if wave % 5 != 0 else random.randint(15 + wave, 25 + wave)\n",
    "        if choice == \"2\":\n",
    "            enemy_damage //= 2\n",
    "        player_hp -= enemy_damage\n",
    "        print(f\"{enemy_name} menyerang dan memberi {enemy_damage} damage!\")\n",
    "        \n",
    "        time.sleep(1)\n",
    "\n",
    "    # Jika pemain kalah\n",
    "    if player_hp <= 0:\n",
    "        print(\"\\n💀 Kamu kalah... Petualangan berakhir.\")\n",
    "        break\n",
    "\n",
    "    # Setelah setiap 3 wave, buka toko\n",
    "    if wave % 3 == 0:\n",
    "        shop()\n",
    "\n",
    "    wave += 1"
   ]
  },
  {
   "cell_type": "code",
   "execution_count": 1,
   "id": "fc83a5fe-dc93-431a-a126-164d6e99c777",
   "metadata": {},
   "outputs": [
    {
     "name": "stdout",
     "output_type": "stream",
     "text": [
      "['Telur', 'Alpukat', 'Kue Kering', 'Selai Cabai Pedas', 'Blueberry', 'Brokoli']\n"
     ]
    }
   ],
   "source": [
    "#program lists sederhana\n",
    "\n",
    "grocery = [\n",
    "    'Telur',\n",
    "    'Alpukat',\n",
    "    'Kue Kering',\n",
    "    'Selai Cabai Pedas',\n",
    "    'Blueberry',\n",
    "    'Brokoli'\n",
    "]\n",
    "\n",
    "print(grocery)"
   ]
  },
  {
   "cell_type": "code",
   "execution_count": 2,
   "id": "f54f3318-cfb4-481f-b87a-a47288e02d83",
   "metadata": {},
   "outputs": [
    {
     "name": "stdout",
     "output_type": "stream",
     "text": [
      "🏦 Get quarters\n",
      "🧺 Do laundry\n",
      "['🌳 Take a walk', '💈 Get a haircut', '🍵 Make some tea']\n"
     ]
    }
   ],
   "source": [
    "#slicing\n",
    "\n",
    "\n",
    "todo = [\n",
    "    '🏦 Get quarters',\n",
    "    '🧺 Do laundry',\n",
    "    '🌳 Take a walk',\n",
    "    '💈 Get a haircut',\n",
    "    '🍵 Make some tea',\n",
    "    '💻 Complete Lists chapter',\n",
    "    '💖 Call mom',\n",
    "    '📺 Watch My Hero Academia'\n",
    "]\n",
    "\n",
    "print(todo[0])\n",
    "print(todo[1])\n",
    "\n",
    "print(todo[2:5]) #slicing"
   ]
  },
  {
   "cell_type": "code",
   "execution_count": 4,
   "id": "48865586-57ce-4eeb-92fc-5e9ab66cf95b",
   "metadata": {},
   "outputs": [
    {
     "name": "stdout",
     "output_type": "stream",
     "text": [
      "12\n",
      "589\n",
      "92232\n"
     ]
    }
   ],
   "source": [
    "#mencari panjang, nilai terkecil, dan nilai terbesar dalam list\n",
    "lego_parts = [8980, 7323, 5343, 82700, 92232, 1203, 7319, 8903, 2328, 1279, 679, 589]\n",
    "\n",
    "print(len(lego_parts))\n",
    "print(min(lego_parts))\n",
    "print(max(lego_parts))"
   ]
  },
  {
   "cell_type": "code",
   "execution_count": 1,
   "id": "3c652443-96f0-48a5-82aa-49e013c754ba",
   "metadata": {},
   "outputs": [
    {
     "name": "stdout",
     "output_type": "stream",
     "text": [
      "['Harry Potter', 'The Mom Test', 'Life in Code', 'Pachinko']\n"
     ]
    }
   ],
   "source": [
    "# Metode list\n",
    "# Membuat daftar buku-buku\n",
    "books = ['Harry Potter', '1984', 'The Fault in Our Stars', 'The Mom Test', 'Life in Code']\n",
    "\n",
    "# Menambahkan 'Pachinko' ke daftar menggunakan metode append()\n",
    "books.append('Pachinko')\n",
    "\n",
    "# Menghapus 'The Fault in Our Stars' menggunakan metode remove()\n",
    "books.remove('The Fault in Our Stars')\n",
    "\n",
    "# Menghapus '1984' menggunakan metode pop()\n",
    "# '1984' berada di indeks 1 setelah menghapus 'The Fault in Our Stars', jadi kita pop indeks 1\n",
    "books.pop(1)\n",
    "\n",
    "# Mencetak daftar yang sudah diperbarui\n",
    "print(books)\n"
   ]
  },
  {
   "cell_type": "code",
   "execution_count": 1,
   "id": "106bf722-54ac-4960-8c0a-50a603f7b796",
   "metadata": {},
   "outputs": [
    {
     "name": "stdout",
     "output_type": "stream",
     "text": [
      "Porches - rangerover\n",
      "Mount Eerie - You Swan, Go On\n",
      "Carolyn Polachek - Look at Me Now\n",
      "Pinegrove - Darkness\n",
      "LVL UP - Spirit Was\n",
      "Mitski - First Love / Late Spring\n"
     ]
    }
   ],
   "source": [
    "#loop list menggunakan for-in\n",
    "\n",
    "playlist = [\n",
    "  'Porches - rangerover',\n",
    "  'Mount Eerie - You Swan, Go On',\n",
    "  'Carolyn Polachek - Look at Me Now',\n",
    "  'Pinegrove - Darkness',\n",
    "  'LVL UP - Spirit Was',\n",
    "  'Mitski - First Love / Late Spring'\n",
    "]\n",
    "\n",
    "for i in playlist:\n",
    "  print(i)"
   ]
  },
  {
   "cell_type": "code",
   "execution_count": 2,
   "id": "f74db47e-2bbe-406a-a1fd-661697f35a45",
   "metadata": {},
   "outputs": [
    {
     "name": "stdout",
     "output_type": "stream",
     "text": [
      "Porches - rangerover\n",
      "Mount Eerie - You Swan, Go On\n",
      "Carolyn Polachek - Look at Me Now\n",
      "Pinegrove - Darkness\n",
      "LVL UP - Spirit Was\n",
      "Mitski - First Love / Late Spring\n"
     ]
    }
   ],
   "source": [
    "#loop list menggunakan range() & len()\n",
    "\n",
    "playlist = [\n",
    "  'Porches - rangerover',\n",
    "  'Mount Eerie - You Swan, Go On',\n",
    "  'Carolyn Polachek - Look at Me Now',\n",
    "  'Pinegrove - Darkness',\n",
    "  'LVL UP - Spirit Was',\n",
    "  'Mitski - First Love / Late Spring'\n",
    "]\n",
    "\n",
    "for i in range(len(playlist)):\n",
    "  print(playlist[i])"
   ]
  },
  {
   "cell_type": "code",
   "execution_count": 3,
   "id": "c421b02b-5c80-44ce-acbe-e036c8edbec3",
   "metadata": {},
   "outputs": [
    {
     "name": "stdout",
     "output_type": "stream",
     "text": [
      "My Bucket List:\n",
      "1. 🚀 Create the dopest learn to code pla\n",
      "2. ⛰️ Hike the Pacific Crest Trail.\n",
      "3. 🏠 Build an A-frame house and raise so\n",
      "4. 🌍 Live somewhere in Asia for a year.\n",
      "5. 🎸 Release an album.\n",
      "6. ✍️ Write a book.\n",
      "7. 🏆 Reach 100k subscribers on YouTube.\n",
      "8. 🚐 Road trip with the fam.\n",
      "9.  diner Open a cozy diner upstate.\n",
      "10. 👶 Grow old with no regrets.\n"
     ]
    }
   ],
   "source": [
    "# bucket_list.py\n",
    "\n",
    "things_to_do = [\n",
    "    '🚀 Create the dopest learn to code pla',\n",
    "    '⛰️ Hike the Pacific Crest Trail.',\n",
    "    '🏠 Build an A-frame house and raise so',\n",
    "    '🌍 Live somewhere in Asia for a year.',\n",
    "    '🎸 Release an album.',\n",
    "    '✍️ Write a book.',\n",
    "    '🏆 Reach 100k subscribers on YouTube.',\n",
    "    '🚐 Road trip with the fam.',\n",
    "    ' diner Open a cozy diner upstate.',\n",
    "    '👶 Grow old with no regrets.'\n",
    "]\n",
    "\n",
    "print(\"My Bucket List:\")\n",
    "for i in range(len(things_to_do)):\n",
    "    print(f\"{i+1}. {things_to_do[i]}\")"
   ]
  },
  {
   "cell_type": "code",
   "execution_count": 4,
   "id": "7e20e8d0-558b-4327-a541-d7ac798e781b",
   "metadata": {},
   "outputs": [
    {
     "name": "stdout",
     "output_type": "stream",
     "text": [
      "['2024 - Anora', '2023 - Oppenheimer', '2022 - Everything Everywhere All at Once', '2021 - CODA', '2020 - Nomadland', '2019 - Parasite', '2018 - Green Book', '2017 - The Shape of Water', '2016 - Moonlight', '2015 - Spotlight', '2014 - Birdman', '2013 - 12 Years a Slave', '2012 - Argo', '2011 - The Artist']\n"
     ]
    }
   ],
   "source": [
    "#\"Daftar Film Terbaik: Eksplorasi Pemenang Oscar dengan Python\"\n",
    "\n",
    "best_pictures = [\n",
    "  '2019 - Parasite',\n",
    "  '2018 - Green Book',\n",
    "  '2017 - The Shape of Water',\n",
    "  '2016 - Moonlight',\n",
    "  '2015 - Spotlight',\n",
    "  '2014 - Birdman',\n",
    "  '2013 - 12 Years a Slave',\n",
    "  '2012 - Argo',\n",
    "  '2011 - The Artist'\n",
    "]\n",
    "\n",
    "# Pemenang terbaru yang akan ditambahkan ke bagian depan daftar\n",
    "recent_winners = [\n",
    "  '2024 - Anora',\n",
    "  '2023 - Oppenheimer',\n",
    "  '2022 - Everything Everywhere All at Once',\n",
    "  '2021 - CODA',\n",
    "  '2020 - Nomadland'\n",
    "]\n",
    "\n",
    "# Menambahkan pemenang terbaru ke bagian depan daftar best_pictures\n",
    "best_pictures = recent_winners + best_pictures\n",
    "\n",
    "# Mencetak daftar yang diperbarui\n",
    "print(best_pictures)\n"
   ]
  },
  {
   "cell_type": "code",
   "execution_count": 5,
   "id": "5af3c8a5-706a-4e7c-93cd-b03928ce1620",
   "metadata": {},
   "outputs": [
    {
     "name": "stdout",
     "output_type": "stream",
     "text": [
      "27.505000000000003\n"
     ]
    }
   ],
   "source": [
    "#\"Bagi Rata: Perhitungan Tagihan dengan Python\"\n",
    "\n",
    "bill = [13.99, 28.75, 9.99, 9.99, 6.95, 7.45, 16.45, 16.45]\n",
    "\n",
    "# Inisialisasi total dengan nol\n",
    "total = 0\n",
    "\n",
    "# Loop melalui daftar tagihan untuk menambahkan semuanya\n",
    "for amount in bill:\n",
    "    total += amount\n",
    "\n",
    "# Hitung bagian yang harus dibayar setiap orang\n",
    "my_share = total / 4\n",
    "\n",
    "# Cetak hasilnya\n",
    "print(my_share)\n"
   ]
  },
  {
   "cell_type": "code",
   "execution_count": 6,
   "id": "7081bb04-edc9-4ccd-a7e3-143ca04c5a31",
   "metadata": {},
   "outputs": [
    {
     "name": "stdout",
     "output_type": "stream",
     "text": [
      "Item Found!\n"
     ]
    }
   ],
   "source": [
    "#\"Pencarian Urutan DNA: Menemukan Pola dengan Python\"\n",
    "\n",
    "dna_sequence = ['GCT', 'AGC', 'AGG', 'TAA', 'ACT', 'CAT', 'TAT', 'CCC', 'ACG', 'GAA', 'ACC', 'GGA']\n",
    "\n",
    "# Tentukan item yang ingin dicari (pilih salah satu dari list)\n",
    "item_to_find = 'CAT'\n",
    "\n",
    "# Inisialisasi item_found ke False\n",
    "item_found = False\n",
    "\n",
    "# Loop melalui setiap item dalam dna_sequence\n",
    "for item in dna_sequence:\n",
    "    # Periksa apakah item sama dengan item_to_find\n",
    "    if item == item_to_find:\n",
    "        # Jika ditemukan, set item_found ke True\n",
    "        item_found = True\n",
    "        # Keluar dari loop karena item sudah ditemukan\n",
    "        break\n",
    "\n",
    "# Periksa apakah item_found adalah True\n",
    "if item_found:\n",
    "    # Jika True, cetak \"Item Found!\"\n",
    "    print(\"Item Found!\")\n",
    "else:\n",
    "    # Jika False, cetak \"Item not found.\"\n",
    "    print(\"Item not found.\")\n"
   ]
  },
  {
   "cell_type": "code",
   "execution_count": 5,
   "id": "f484fe44-2b59-408d-9b50-bfbdcf640cfd",
   "metadata": {},
   "outputs": [
    {
     "name": "stdin",
     "output_type": "stream",
     "text": [
      "Masukkan berapa banyak angka yang ingin Anda masukkan:  9\n",
      "Masukkan angka ke-1:  54\n",
      "Masukkan angka ke-2:  26\n",
      "Masukkan angka ke-3:  87\n",
      "Masukkan angka ke-4:  92\n",
      "Masukkan angka ke-5:  31\n",
      "Masukkan angka ke-6:  11\n",
      "Masukkan angka ke-7:  54\n",
      "Masukkan angka ke-8:  23\n",
      "Masukkan angka ke-9:  55\n"
     ]
    },
    {
     "name": "stdout",
     "output_type": "stream",
     "text": [
      "\n",
      "Total: 433.0\n",
      "Rata-rata: 48.111111111111114\n"
     ]
    }
   ],
   "source": [
    "# menggabungkan 5 fungsi\n",
    "\n",
    "# Program untuk menghitung total dan rata-rata angka\n",
    "\n",
    "# Fungsi input() untuk meminta jumlah angka yang ingin dimasukkan\n",
    "jumlah_angka = int(input(\"Masukkan berapa banyak angka yang ingin Anda masukkan: \"))\n",
    "\n",
    "# Fungsi range() untuk menghasilkan urutan angka dari 0 hingga jumlah_angka\n",
    "# Fungsi list() untuk mengubah urutan angka menjadi sebuah list\n",
    "daftar_angka = list(range(jumlah_angka))\n",
    "\n",
    "# Loop untuk meminta setiap angka dari pengguna dan menyimpannya dalam list\n",
    "for i in range(jumlah_angka):\n",
    "    angka = float(input(f\"Masukkan angka ke-{i+1}: \")) # Input angka sebagai float\n",
    "    daftar_angka[i] = angka\n",
    "\n",
    "# Fungsi sum() untuk menghitung total dari semua angka dalam list\n",
    "total = sum(daftar_angka)\n",
    "\n",
    "# Fungsi len() untuk menghitung jumlah angka dalam list\n",
    "jumlah_item = len(daftar_angka)\n",
    "\n",
    "# Menghitung rata-rata\n",
    "rata_rata = total / jumlah_item\n",
    "\n",
    "# Menampilkan hasil\n",
    "print(\"\\nTotal:\", total)\n",
    "print(\"Rata-rata:\", rata_rata)\n"
   ]
  },
  {
   "cell_type": "code",
   "execution_count": 7,
   "id": "13a2d0e5-6215-419e-93e8-6d9a27348052",
   "metadata": {},
   "outputs": [
    {
     "name": "stdout",
     "output_type": "stream",
     "text": [
      "Jangan hanya berpikir. Bertindak!\n",
      "Tolong! Saya disandera di toko roti Cina!\n",
      "Jangan mengejar kebahagiaan – ciptakanlah.\n"
     ]
    }
   ],
   "source": [
    "# menentukan ramalan acak : random, def, fungsi, random_randint, if, elif, else, print, panggil fungsi\n",
    "\n",
    "import random\n",
    "\n",
    "def fortune():\n",
    "    # Pilih angka acak antara 1 dan 8\n",
    "    angka_acak = random.randint(1, 8)\n",
    "\n",
    "    # Gunakan if, elif, dan else untuk menentukan ramalan berdasarkan angka acak\n",
    "    if angka_acak == 1:\n",
    "        print(\"Jangan mengejar kebahagiaan – ciptakanlah.\")\n",
    "    elif angka_acak == 2:\n",
    "        print(\"Semua hal sulit sebelum menjadi mudah.\")\n",
    "    elif angka_acak == 3:\n",
    "        print(\"Burung awal mendapat cacing, tetapi tikus kedua mendapat keju.\")\n",
    "    elif angka_acak == 4:\n",
    "        print(\"Seseorang dalam hidup Anda membutuhkan surat dari Anda.\")\n",
    "    elif angka_acak == 5:\n",
    "        print(\"Jangan hanya berpikir. Bertindak!\")\n",
    "    elif angka_acak == 6:\n",
    "        print(\"Jantungmu akan berdetak kencang.\")\n",
    "    elif angka_acak == 7:\n",
    "        print(\"Keberuntungan yang Anda cari ada di kue lain.\")\n",
    "    else:\n",
    "        print(\"Tolong! Saya disandera di toko roti Cina!\")\n",
    "\n",
    "# Panggil fungsi fortune() tiga kali\n",
    "fortune()\n",
    "fortune()\n",
    "fortune()\n"
   ]
  },
  {
   "cell_type": "code",
   "execution_count": 21,
   "id": "cacff862-ccdf-4825-8249-f986fd58b31e",
   "metadata": {},
   "outputs": [
    {
     "name": "stdout",
     "output_type": "stream",
     "text": [
      "Jantungmu akan berdetak kencang.\n",
      "Semua hal sulit sebelum menjadi mudah.\n",
      "Seseorang dalam hidup Anda membutuhkan surat dari Anda.\n"
     ]
    }
   ],
   "source": [
    "# menentukan ramalan acak : random, def, fungsi, list, index, random_randint, len, print, panggil fungsi\n",
    "\n",
    "import random\n",
    "\n",
    "def fortune():\n",
    "    # Daftar ramalan\n",
    "    fortunes = [\n",
    "        \"Jangan mengejar kebahagiaan – ciptakanlah.\",\n",
    "        \"Semua hal sulit sebelum menjadi mudah.\",\n",
    "        \"Burung awal mendapat cacing, tetapi tikus kedua mendapat keju.\",\n",
    "        \"Seseorang dalam hidup Anda membutuhkan surat dari Anda.\",\n",
    "        \"Jangan hanya berpikir. Bertindak!\",\n",
    "        \"Jantungmu akan berdetak kencang.\",\n",
    "        \"Keberuntungan yang Anda cari ada di kue lain.\",\n",
    "        \"Tolong! Saya disandera di toko roti Cina!\"\n",
    "    ]\n",
    "\n",
    "    # Pilih ramalan acak\n",
    "    index = random.randint(0, len(fortunes) - 1)\n",
    "    print(fortunes[index])\n",
    "\n",
    "# Panggil fungsi fortune() tiga kali\n",
    "fortune()\n",
    "fortune()\n",
    "fortune()"
   ]
  },
  {
   "cell_type": "code",
   "execution_count": 9,
   "id": "3ff36391-76bf-4e15-89ac-4a5e133c46f7",
   "metadata": {},
   "outputs": [
    {
     "name": "stdout",
     "output_type": "stream",
     "text": [
      "6215.040397762586\n"
     ]
    }
   ],
   "source": [
    "# konversi Kilometer ke Mil (parameter & Argumen)\n",
    "\n",
    "# rocket.py\n",
    "def jarak_ke_mil(jarak):  # Mendefinisikan fungsi bernama jarak_ke_mil dengan parameter 'jarak'\n",
    "    \"\"\"\n",
    "    Mengkonversi jarak dari kilometer ke mil dan mencetak hasilnya.\n",
    "    \n",
    "    Parameter:\n",
    "    jarak (float): Jarak dalam kilometer. <- 'jarak' adalah parameter dari fungsi ini\n",
    "    \"\"\"\n",
    "    mil = jarak / 1.609  # Menghitung konversi dari kilometer ke mil\n",
    "    print(mil)  # Mencetak hasil konversi ke konsol\n",
    "\n",
    "# Panggil fungsi dengan 10000 sebagai argumen\n",
    "jarak_ke_mil(10000)  # Memanggil fungsi jarak_ke_mil dengan argumen 10000\n",
    "\n"
   ]
  },
  {
   "cell_type": "code",
   "execution_count": null,
   "id": "0b6be6b4-a788-4545-913f-28f4343270c6",
   "metadata": {},
   "outputs": [],
   "source": []
  }
 ],
 "metadata": {
  "kernelspec": {
   "display_name": "Python 3 (ipykernel)",
   "language": "python",
   "name": "python3"
  },
  "language_info": {
   "codemirror_mode": {
    "name": "ipython",
    "version": 3
   },
   "file_extension": ".py",
   "mimetype": "text/x-python",
   "name": "python",
   "nbconvert_exporter": "python",
   "pygments_lexer": "ipython3",
   "version": "3.13.6"
  }
 },
 "nbformat": 4,
 "nbformat_minor": 5
}
